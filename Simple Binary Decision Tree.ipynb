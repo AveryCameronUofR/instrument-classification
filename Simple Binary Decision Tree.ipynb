{
 "cells": [
  {
   "cell_type": "code",
   "execution_count": 60,
   "metadata": {},
   "outputs": [
    {
     "name": "stdout",
     "output_type": "stream",
     "text": [
      "functions declared\n"
     ]
    }
   ],
   "source": [
    "import librosa\n",
    "import librosa.display\n",
    "import numpy as np\n",
    "import matplotlib.pyplot as plt\n",
    "import pandas as pd\n",
    "import pickle\n",
    "import time\n",
    "from tqdm import tqdm_notebook\n",
    "\n",
    "##########Function version of avery's work. meant to return features once called in BuildDataset. ################\n",
    "def feature_extract(file):\n",
    "    y, sr = librosa.load(file, sr=None)\n",
    "    \n",
    "    hop_length = 512\n",
    "    \n",
    "    # Separate harmonics and percussives into two waveforms\n",
    "    y_harmonic, y_percussive = librosa.effects.hpss(y)    \n",
    "    \n",
    "    #Chroma Energy Normalized (CENS)\n",
    "    chroma_cens = librosa.feature.chroma_cens(y=y, sr=sr)\n",
    "    \n",
    "    #Mel Spectrogram\n",
    "    mel_spec = librosa.feature.melspectrogram(y=y, sr=sr, n_mels=128, \n",
    "                                                 fmax = 8000)\n",
    "    #Mel-Frequency Cepstral Coefficients (MFCC) features from the raw signal\n",
    "    mfcc = librosa.feature.mfcc(y=y, sr=sr, hop_length=hop_length, n_mfcc=13)\n",
    "    \n",
    "    #Spectral Contrast\n",
    "    spec_contrast = librosa.feature.spectral_contrast(y=y, sr=sr)\n",
    "    \n",
    "    y_harmonic = np.mean(y_harmonic)\n",
    "    y_percussive = np.mean(y_percussive)\n",
    "    mel_spec = np.mean(mel_spec, axis=1)\n",
    "    mfcc = np.mean(mfcc, axis =1)\n",
    "    chroma_cens = np.mean(chroma_cens, axis=1)\n",
    "    spec_contrast = np.mean(spec_contrast, axis=1)\n",
    "    \n",
    "    return [y_harmonic, y_percussive, chroma_cens, mfcc, mel_spec, \n",
    "            spec_contrast]\n",
    "\n",
    "def getDataset(dataGroup, instrument, source):\n",
    "    \n",
    "    new_dir='Dataset/nsynth-'+dataGroup+'/audio/'     #set the audio directory (test, train, etc)\n",
    "    dataframe_raw = pd.read_json(path_or_buf='Dataset/nsynth-'+dataGroup+'/examples.json', orient='index') #read all instruments from examples.json\n",
    "    dataframe_specific = dataframe_raw.loc[dataframe_raw['instrument_family_str'] == instrument]           #narrow down by family (strings, etc)\n",
    "    dataframe_specific = dataframe_specific.loc[dataframe_specific['instrument_source_str'] == source]     #narrow down by source (acoustic, etc)\n",
    "\n",
    "    filenames = dataframe_specific.index.tolist()     #get filenames from our dataframe, put into list\n",
    "    \n",
    "    dictionary = {}\n",
    "    for file in tqdm_notebook(filenames):             #for all files in filenames. Also,  tqdm is a loading bar\n",
    "        features = feature_extract((new_dir+file+'.wav')) #specify directory, file, then add .wav. we will perform feature_extract with the file\n",
    "        dictionary[file] = features                       #make dictionary using file as rows - features as columns\n",
    "    featureDf = pd.DataFrame.from_dict(dictionary, orient='index', #turn into dataframe\n",
    "                                       columns=['y_harmonic', 'y_percussive', 'chroma_cens', \n",
    "                                                'mfcc', 'mel_spec', 'spec_contrast'])\n",
    "    \n",
    "    return featureDf #returns dataframe of features\n",
    "\n",
    "def instrument_code(filename):\n",
    "    \"\"\"\n",
    "    Function that takes in a filename and returns instrument based on naming convention\n",
    "    \"\"\"\n",
    "    class_names=['bass', 'brass', 'flute', 'guitar', \n",
    "             'keyboard', 'mallet', 'organ', 'reed', \n",
    "             'string', 'synth_lead', 'vocal']\n",
    "    \n",
    "    for name in class_names:\n",
    "        if name in filename:\n",
    "            return class_names.index(name)\n",
    "    else:\n",
    "        return None\n",
    "    \n",
    "def equalize_data(class1, class2):\n",
    "    class1_copy = class1\n",
    "    class2_copy = class2  \n",
    "    if (class1_copy['y_harmonic'].count() < class2_copy['y_harmonic'].count()):\n",
    "        while (class1_copy['y_harmonic'].count()<class2_copy['y_harmonic'].count()): \n",
    "            temp = [class1_copy, class1]\n",
    "            class2_copy = pd.concat(temp)\n",
    "        class2_copy = class2_copy[:class1_copy['y_harmonic'].count()]\n",
    "    else:\n",
    "        while (class2_copy['y_harmonic'].count()<class1_copy['y_harmonic'].count()):\n",
    "            temp = [class2_copy, class2]\n",
    "            class2_copy = pd.concat(temp)\n",
    "        class2_copy = class2_copy[:class1_copy['y_harmonic'].count()]\n",
    "    return (class1_copy, class2_copy)\n",
    "\n",
    "print('functions declared')\n"
   ]
  },
  {
   "cell_type": "code",
   "execution_count": 31,
   "metadata": {},
   "outputs": [
    {
     "data": {
      "application/vnd.jupyter.widget-view+json": {
       "model_id": "ac9c523530fe492582c963d13c788fbb",
       "version_major": 2,
       "version_minor": 0
      },
      "text/plain": [
       "HBox(children=(IntProgress(value=0, max=306), HTML(value='')))"
      ]
     },
     "metadata": {},
     "output_type": "display_data"
    },
    {
     "name": "stdout",
     "output_type": "stream",
     "text": [
      "\n"
     ]
    },
    {
     "data": {
      "application/vnd.jupyter.widget-view+json": {
       "model_id": "38bc5f25431b4155b399f24257c09ee6",
       "version_major": 2,
       "version_minor": 0
      },
      "text/plain": [
       "HBox(children=(IntProgress(value=0, max=119), HTML(value='')))"
      ]
     },
     "metadata": {},
     "output_type": "display_data"
    },
    {
     "name": "stdout",
     "output_type": "stream",
     "text": [
      "\n"
     ]
    }
   ],
   "source": [
    "CLASS_NAMES=['bass', 'brass', 'flute', 'guitar', \n",
    "             'keyboard', 'mallet', 'organ', 'reed', \n",
    "             'string', 'synth_lead', 'vocal']\n",
    "\n",
    "SOURCE_NAMES=['acoustic', 'electronic', 'synthetic']\n",
    "DATA_GROUPS=['test', 'valid', 'train']\n",
    "\n",
    "dataGroup = DATA_GROUPS[0]    #SET IF YOU WANT TEST, TRAIN, OR VALID (IF YOU HAVE IT)\n",
    "source = SOURCE_NAMES[0]      #SET ACOUSTIC, ELECTRONIC, SYNTHETIC\n",
    "\n",
    "# get string members from dataset\n",
    "string_df = getDataset(dataGroup, 'string', source)\n",
    "\n",
    "# get keyboard members\n",
    "keyboard_df = getDataset(dataGroup, 'keyboard', source)"
   ]
  },
  {
   "cell_type": "code",
   "execution_count": 73,
   "metadata": {},
   "outputs": [
    {
     "name": "stdout",
     "output_type": "stream",
     "text": [
      "612\n"
     ]
    },
    {
     "data": {
      "text/html": [
       "<div>\n",
       "<style scoped>\n",
       "    .dataframe tbody tr th:only-of-type {\n",
       "        vertical-align: middle;\n",
       "    }\n",
       "\n",
       "    .dataframe tbody tr th {\n",
       "        vertical-align: top;\n",
       "    }\n",
       "\n",
       "    .dataframe thead th {\n",
       "        text-align: right;\n",
       "    }\n",
       "</style>\n",
       "<table border=\"1\" class=\"dataframe\">\n",
       "  <thead>\n",
       "    <tr style=\"text-align: right;\">\n",
       "      <th></th>\n",
       "      <th>y_harmonic</th>\n",
       "      <th>y_percussive</th>\n",
       "      <th>chroma_cens</th>\n",
       "      <th>mfcc</th>\n",
       "      <th>mel_spec</th>\n",
       "      <th>spec_contrast</th>\n",
       "      <th>targets</th>\n",
       "    </tr>\n",
       "  </thead>\n",
       "  <tbody>\n",
       "    <tr>\n",
       "      <td>0</td>\n",
       "      <td>6.664098e-06</td>\n",
       "      <td>0.000011</td>\n",
       "      <td>[0.1096170072796327, 0.07846977792513349, 0.07...</td>\n",
       "      <td>[-460.9752, 54.22047, 32.74235, 20.803627, 17....</td>\n",
       "      <td>[2.5420077, 4.8765593, 0.78300476, 4.179643, 3...</td>\n",
       "      <td>[22.113388275851623, 28.377618085149557, 29.83...</td>\n",
       "      <td>4</td>\n",
       "    </tr>\n",
       "    <tr>\n",
       "      <td>1</td>\n",
       "      <td>-2.448392e-07</td>\n",
       "      <td>-0.000001</td>\n",
       "      <td>[0.10964852135780465, 0.10612814421720879, 0.0...</td>\n",
       "      <td>[-536.8973, 17.354328, 3.1125765, 2.1465187, -...</td>\n",
       "      <td>[4.213301e-05, 2.5070683e-05, 2.987804e-05, 0....</td>\n",
       "      <td>[25.347767265064782, 27.805910531505422, 25.99...</td>\n",
       "      <td>8</td>\n",
       "    </tr>\n",
       "    <tr>\n",
       "      <td>2</td>\n",
       "      <td>2.478584e-06</td>\n",
       "      <td>0.000006</td>\n",
       "      <td>[0.2487313639043975, 0.1642686204498068, 0.0, ...</td>\n",
       "      <td>[-392.53815, 174.15317, 46.716755, 15.358407, ...</td>\n",
       "      <td>[0.3893757, 2.4550638, 38.302204, 86.18423, 57...</td>\n",
       "      <td>[31.963598967546925, 26.012978061844446, 26.48...</td>\n",
       "      <td>4</td>\n",
       "    </tr>\n",
       "    <tr>\n",
       "      <td>3</td>\n",
       "      <td>-7.241782e-07</td>\n",
       "      <td>-0.000020</td>\n",
       "      <td>[0.23649112390870805, 0.39909175735867236, 0.3...</td>\n",
       "      <td>[-602.82965, 57.561806, 28.508324, 29.559114, ...</td>\n",
       "      <td>[0.32004213, 0.8644902, 0.24710113, 1.1290387,...</td>\n",
       "      <td>[21.05348124833135, 16.901026272116198, 17.290...</td>\n",
       "      <td>4</td>\n",
       "    </tr>\n",
       "    <tr>\n",
       "      <td>4</td>\n",
       "      <td>1.531883e-06</td>\n",
       "      <td>-0.000008</td>\n",
       "      <td>[0.21195912316354568, 0.09669011132710346, 0.0...</td>\n",
       "      <td>[-291.25998, 161.35541, 36.310596, 12.888318, ...</td>\n",
       "      <td>[4.3110814, 22.95175, 771.4433, 2010.0955, 46....</td>\n",
       "      <td>[29.064563852414867, 22.879308547722488, 22.24...</td>\n",
       "      <td>8</td>\n",
       "    </tr>\n",
       "  </tbody>\n",
       "</table>\n",
       "</div>"
      ],
      "text/plain": [
       "     y_harmonic  y_percussive  \\\n",
       "0  6.664098e-06      0.000011   \n",
       "1 -2.448392e-07     -0.000001   \n",
       "2  2.478584e-06      0.000006   \n",
       "3 -7.241782e-07     -0.000020   \n",
       "4  1.531883e-06     -0.000008   \n",
       "\n",
       "                                         chroma_cens  \\\n",
       "0  [0.1096170072796327, 0.07846977792513349, 0.07...   \n",
       "1  [0.10964852135780465, 0.10612814421720879, 0.0...   \n",
       "2  [0.2487313639043975, 0.1642686204498068, 0.0, ...   \n",
       "3  [0.23649112390870805, 0.39909175735867236, 0.3...   \n",
       "4  [0.21195912316354568, 0.09669011132710346, 0.0...   \n",
       "\n",
       "                                                mfcc  \\\n",
       "0  [-460.9752, 54.22047, 32.74235, 20.803627, 17....   \n",
       "1  [-536.8973, 17.354328, 3.1125765, 2.1465187, -...   \n",
       "2  [-392.53815, 174.15317, 46.716755, 15.358407, ...   \n",
       "3  [-602.82965, 57.561806, 28.508324, 29.559114, ...   \n",
       "4  [-291.25998, 161.35541, 36.310596, 12.888318, ...   \n",
       "\n",
       "                                            mel_spec  \\\n",
       "0  [2.5420077, 4.8765593, 0.78300476, 4.179643, 3...   \n",
       "1  [4.213301e-05, 2.5070683e-05, 2.987804e-05, 0....   \n",
       "2  [0.3893757, 2.4550638, 38.302204, 86.18423, 57...   \n",
       "3  [0.32004213, 0.8644902, 0.24710113, 1.1290387,...   \n",
       "4  [4.3110814, 22.95175, 771.4433, 2010.0955, 46....   \n",
       "\n",
       "                                       spec_contrast  targets  \n",
       "0  [22.113388275851623, 28.377618085149557, 29.83...        4  \n",
       "1  [25.347767265064782, 27.805910531505422, 25.99...        8  \n",
       "2  [31.963598967546925, 26.012978061844446, 26.48...        4  \n",
       "3  [21.05348124833135, 16.901026272116198, 17.290...        4  \n",
       "4  [29.064563852414867, 22.879308547722488, 22.24...        8  "
      ]
     },
     "execution_count": 73,
     "metadata": {},
     "output_type": "execute_result"
    }
   ],
   "source": [
    "# add targets to dataframes\n",
    "string_targets_test = []\n",
    "keyboard_targets_test = []\n",
    "\n",
    "for name in string_df.index.tolist():\n",
    "    string_targets_test.append(instrument_code(name))\n",
    "    \n",
    "string_df['targets'] = string_targets_test\n",
    "\n",
    "for name in keyboard_df.index.tolist():\n",
    "    keyboard_targets_test.append(instrument_code(name))\n",
    "\n",
    "keyboard_df['targets'] = keyboard_targets_test\n",
    "\n",
    "# balance the dataset\n",
    "(string_df, keyboard_df) = equalize_data(string_df, keyboard_df)\n",
    "input_df = pd.concat([string_df, keyboard_df])\n",
    "\n",
    "# randomize dataset\n",
    "input_df = input_df.sample(frac=1).reset_index(drop=True)\n",
    "input_df.head()"
   ]
  }
 ],
 "metadata": {
  "kernelspec": {
   "display_name": "Python 3",
   "language": "python",
   "name": "python3"
  },
  "language_info": {
   "codemirror_mode": {
    "name": "ipython",
    "version": 3
   },
   "file_extension": ".py",
   "mimetype": "text/x-python",
   "name": "python",
   "nbconvert_exporter": "python",
   "pygments_lexer": "ipython3",
   "version": "3.7.4"
  }
 },
 "nbformat": 4,
 "nbformat_minor": 2
}
