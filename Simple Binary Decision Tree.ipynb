{
 "cells": [
  {
   "cell_type": "code",
   "execution_count": 33,
   "metadata": {},
   "outputs": [
    {
     "name": "stdout",
     "output_type": "stream",
     "text": [
      "functions declared\n"
     ]
    }
   ],
   "source": [
    "import librosa\n",
    "import librosa.display\n",
    "import numpy as np\n",
    "import matplotlib.pyplot as plt\n",
    "import pandas as pd\n",
    "import pickle\n",
    "import time\n",
    "from tqdm import tqdm_notebook\n",
    "from sklearn import tree\n",
    "from sklearn.ensemble import AdaBoostClassifier\n",
    "from sklearn.tree import DecisionTreeClassifier\n",
    "import numpy as np\n",
    "from sklearn.metrics import confusion_matrix\n",
    "from sklearn.preprocessing import LabelEncoder\n",
    "\n",
    "##########Function version of avery's work. meant to return features once called in BuildDataset. ################\n",
    "def feature_extract(file):\n",
    "    y, sr = librosa.load(file, sr=None)\n",
    "    \n",
    "    hop_length = 512\n",
    "    \n",
    "    # Separate harmonics and percussives into two waveforms\n",
    "    y_harmonic, y_percussive = librosa.effects.hpss(y)    \n",
    "    \n",
    "    #Chroma Energy Normalized (CENS)\n",
    "    chroma_cens = librosa.feature.chroma_cens(y=y, sr=sr)\n",
    "    \n",
    "    #Mel Spectrogram\n",
    "    mel_spec = librosa.feature.melspectrogram(y=y, sr=sr, n_mels=128, \n",
    "                                                 fmax = 8000)\n",
    "    #Mel-Frequency Cepstral Coefficients (MFCC) features from the raw signal\n",
    "    mfcc = librosa.feature.mfcc(y=y, sr=sr, hop_length=hop_length, n_mfcc=13)\n",
    "    \n",
    "    #Spectral Contrast\n",
    "    spec_contrast = librosa.feature.spectral_contrast(y=y, sr=sr)\n",
    "    \n",
    "    y_harmonic = np.mean(y_harmonic)\n",
    "    y_percussive = np.mean(y_percussive)\n",
    "    mel_spec = np.mean(mel_spec, axis=1)\n",
    "    mfcc = np.mean(mfcc, axis =1)\n",
    "    chroma_cens = np.mean(chroma_cens, axis=1)\n",
    "    spec_contrast = np.mean(spec_contrast, axis=1)\n",
    "    \n",
    "    return [y_harmonic, y_percussive, chroma_cens, mfcc, mel_spec, \n",
    "            spec_contrast]\n",
    "\n",
    "def feature_extract_averages(file):\n",
    "    y, sr = librosa.load(file, sr=None)\n",
    "    \n",
    "    hop_length = 512\n",
    "    \n",
    "    # Separate harmonics and percussives into two waveforms\n",
    "    y_harmonic, y_percussive = librosa.effects.hpss(y)    \n",
    "    \n",
    "    #Chroma Energy Normalized (CENS)\n",
    "    chroma_cens = librosa.feature.chroma_cens(y=y, sr=sr)\n",
    "    \n",
    "    #Mel Spectrogram\n",
    "    mel_spec = librosa.feature.melspectrogram(y=y, sr=sr, n_mels=128, \n",
    "                                                 fmax = 8000)\n",
    "    #Mel-Frequency Cepstral Coefficients (MFCC) features from the raw signal\n",
    "    mfcc = librosa.feature.mfcc(y=y, sr=sr, hop_length=hop_length, n_mfcc=13)\n",
    "    \n",
    "    #Spectral Contrast\n",
    "    spec_contrast = librosa.feature.spectral_contrast(y=y, sr=sr)\n",
    "    \n",
    "    y_harmonic = np.mean(y_harmonic)\n",
    "    y_percussive = np.mean(y_percussive)\n",
    "    mel_spec = np.mean(mel_spec)\n",
    "    mfcc = np.mean(mfcc)\n",
    "    chroma_cens = np.mean(chroma_cens)\n",
    "    spec_contrast = np.mean(spec_contrast)\n",
    "    \n",
    "    return [y_harmonic, y_percussive, chroma_cens, mfcc, mel_spec, \n",
    "            spec_contrast]\n",
    "\n",
    "def getDataset(dataGroup, instrument, source):\n",
    "    \n",
    "    new_dir='Dataset/nsynth-'+dataGroup+'/audio/'     #set the audio directory (test, train, etc)\n",
    "    dataframe_raw = pd.read_json(path_or_buf='Dataset/nsynth-'+dataGroup+'/examples.json', orient='index') #read all instruments from examples.json\n",
    "    dataframe_specific = dataframe_raw.loc[dataframe_raw['instrument_family_str'] == instrument]           #narrow down by family (strings, etc)\n",
    "    dataframe_specific = dataframe_specific.loc[dataframe_specific['instrument_source_str'] == source]     #narrow down by source (acoustic, etc)\n",
    "\n",
    "    filenames = dataframe_specific.index.tolist()     #get filenames from our dataframe, put into list\n",
    "    \n",
    "    dictionary = {}\n",
    "    for file in tqdm_notebook(filenames):             #for all files in filenames. Also,  tqdm is a loading bar\n",
    "        features = feature_extract_averages((new_dir+file+'.wav')) #specify directory, file, then add .wav. we will perform feature_extract with the file\n",
    "        dictionary[file] = features                       #make dictionary using file as rows - features as columns\n",
    "    featureDf = pd.DataFrame.from_dict(dictionary, orient='index', #turn into dataframe\n",
    "                                       columns=['y_harmonic', 'y_percussive', 'chroma_cens', \n",
    "                                                'mfcc', 'mel_spec', 'spec_contrast'])\n",
    "    \n",
    "    return featureDf #returns dataframe of features\n",
    "\n",
    "def instrument_code(filename):\n",
    "    \"\"\"\n",
    "    Function that takes in a filename and returns instrument based on naming convention\n",
    "    \"\"\"\n",
    "    class_names=['bass', 'brass', 'flute', 'guitar', \n",
    "             'keyboard', 'mallet', 'organ', 'reed', \n",
    "             'string', 'synth_lead', 'vocal']\n",
    "    \n",
    "    for name in class_names:\n",
    "        if name in filename:\n",
    "            return class_names.index(name)\n",
    "    else:\n",
    "        return None\n",
    "    \n",
    "def equalize_data(class1, class2):\n",
    "    class1_copy = class1\n",
    "    class2_copy = class2  \n",
    "    if (class1_copy['y_harmonic'].count() < class2_copy['y_harmonic'].count()):\n",
    "        while (class1_copy['y_harmonic'].count()<class2_copy['y_harmonic'].count()): \n",
    "            temp = [class1_copy, class1]\n",
    "            class2_copy = pd.concat(temp)\n",
    "        class2_copy = class2_copy[:class1_copy['y_harmonic'].count()]\n",
    "    else:\n",
    "        while (class2_copy['y_harmonic'].count()<class1_copy['y_harmonic'].count()):\n",
    "            temp = [class2_copy, class2]\n",
    "            class2_copy = pd.concat(temp)\n",
    "        class2_copy = class2_copy[:class1_copy['y_harmonic'].count()]\n",
    "    return (class1_copy, class2_copy)\n",
    "\n",
    "def count_errors(predictions):\n",
    "    count = 0;\n",
    "    for pred in predictions:\n",
    "        if (pred[0] != pred[1]):\n",
    "            count += 1\n",
    "    return count;\n",
    "\n",
    "print('functions declared')\n"
   ]
  },
  {
   "cell_type": "code",
   "execution_count": 201,
   "metadata": {},
   "outputs": [
    {
     "data": {
      "application/vnd.jupyter.widget-view+json": {
       "model_id": "8db69d19631a4b18b8426e7b6b5b9d32",
       "version_major": 2,
       "version_minor": 0
      },
      "text/plain": [
       "HBox(children=(IntProgress(value=0, max=306), HTML(value='')))"
      ]
     },
     "metadata": {},
     "output_type": "display_data"
    },
    {
     "name": "stdout",
     "output_type": "stream",
     "text": [
      "\n"
     ]
    },
    {
     "data": {
      "application/vnd.jupyter.widget-view+json": {
       "model_id": "686a8e988fe44d6fa243a9de7ff23da1",
       "version_major": 2,
       "version_minor": 0
      },
      "text/plain": [
       "HBox(children=(IntProgress(value=0, max=119), HTML(value='')))"
      ]
     },
     "metadata": {},
     "output_type": "display_data"
    },
    {
     "name": "stdout",
     "output_type": "stream",
     "text": [
      "\n"
     ]
    },
    {
     "data": {
      "application/vnd.jupyter.widget-view+json": {
       "model_id": "21235649e8384d04b368a5d6f05f3790",
       "version_major": 2,
       "version_minor": 0
      },
      "text/plain": [
       "HBox(children=(IntProgress(value=0, max=814), HTML(value='')))"
      ]
     },
     "metadata": {},
     "output_type": "display_data"
    },
    {
     "name": "stdout",
     "output_type": "stream",
     "text": [
      "\n"
     ]
    },
    {
     "data": {
      "application/vnd.jupyter.widget-view+json": {
       "model_id": "3a3635216f264004a81f6cffd9de5f52",
       "version_major": 2,
       "version_minor": 0
      },
      "text/plain": [
       "HBox(children=(IntProgress(value=0, max=321), HTML(value='')))"
      ]
     },
     "metadata": {},
     "output_type": "display_data"
    },
    {
     "name": "stdout",
     "output_type": "stream",
     "text": [
      "\n"
     ]
    }
   ],
   "source": [
    "CLASS_NAMES=['bass', 'brass', 'flute', 'guitar', \n",
    "             'keyboard', 'mallet', 'organ', 'reed', \n",
    "             'string', 'synth_lead', 'vocal']\n",
    "\n",
    "SOURCE_NAMES=['acoustic', 'electronic', 'synthetic']\n",
    "DATA_GROUPS=['test', 'valid', 'train']\n",
    "\n",
    "dataGroup = DATA_GROUPS[0]    #SET IF YOU WANT TEST, TRAIN, OR VALID (IF YOU HAVE IT)\n",
    "source = SOURCE_NAMES[0]      #SET ACOUSTIC, ELECTRONIC, SYNTHETIC\n",
    "\n",
    "# get string members from dataset\n",
    "string_df_test = getDataset('test', 'string', 'acoustic')\n",
    "\n",
    "# get keyboard members\n",
    "keyboard_df_test = getDataset('test', 'keyboard', 'acoustic')\n",
    "\n",
    "# get string members from dataset\n",
    "string_df_valid = getDataset('valid', 'string', 'acoustic')\n",
    "\n",
    "# get keyboard members\n",
    "keyboard_df_valid = getDataset('valid', 'keyboard', 'acoustic')"
   ]
  },
  {
   "cell_type": "code",
   "execution_count": 77,
   "metadata": {},
   "outputs": [
    {
     "name": "stdout",
     "output_type": "stream",
     "text": [
      "65\n",
      "158\n",
      "Validation set error percentage:  9.71\n",
      "Test set error percentage:  10.62\n"
     ]
    },
    {
     "data": {
      "image/png": "[encoded data removed]",
      "text/plain": [
       "<Figure size 432x288 with 1 Axes>"
      ]
     },
     "metadata": {
      "needs_background": "light"
     },
     "output_type": "display_data"
    }
   ],
   "source": [
    "# hyperparameters\n",
    "# 4 seems to work well for training with validation set\n",
    "max_depth = 4\n",
    "\n",
    "# adding targets to dataframes\n",
    "string_df_test['target'] = 8\n",
    "keyboard_df_test['target'] = 4\n",
    "\n",
    "string_df_valid['target'] = 8\n",
    "keyboard_df_valid['target'] = 4\n",
    "\n",
    "# balance the datasets\n",
    "(string_df_test, keyboard_df_test) = equalize_data(string_df_test, keyboard_df_test)\n",
    "input_df_test = pd.concat([string_df_test, keyboard_df_test])\n",
    "\n",
    "(string_df_valid, keyboard_df_valid) = equalize_data(string_df_valid, keyboard_df_valid)\n",
    "input_df_valid = pd.concat([string_df_valid, keyboard_df_valid])\n",
    "\n",
    "# randomize datasets\n",
    "input_df_test = input_df_test.sample(frac=1).reset_index(drop=True)\n",
    "input_df_valid = input_df_valid.sample(frac=1).reset_index(drop=True)\n",
    "\n",
    "# creating input and target arrays\n",
    "feature_names = ['y_harmonic', 'y_percussive', 'chroma_cens', 'mfcc', 'mel_spec', 'spec_contrast']\n",
    "\n",
    "x_test = input_df_test[feature_names].values.tolist()\n",
    "# encoding target as 0 for keyboard, 1 for string\n",
    "y_test = input_df_test['target'].map(lambda target: 0 if (target == 4) else 1).values.tolist()\n",
    "\n",
    "x_valid = input_df_valid[feature_names].values.tolist()\n",
    "# encoding target as 0 for keyboard, 1 for string\n",
    "y_valid = input_df_valid['target'].map(lambda target: 0 if (target == 4) else 1).values.tolist()\n",
    "\n",
    "# create a scikit-learn tree based on validation set\n",
    "clf = tree.DecisionTreeClassifier(max_depth=max_depth)\n",
    "clf = clf.fit(x_valid, y_valid)\n",
    "\n",
    "# make predictions\n",
    "predictions_test = np.vstack((y_test, clf.predict(x_test).tolist())).T\n",
    "predictions_valid = np.vstack((y_valid, clf.predict(x_valid).tolist())).T\n",
    "\n",
    "data_length_test = len(predictions_test)\n",
    "data_length_valid = len(predictions_valid)\n",
    "\n",
    "num_errors_test = count_errors(predictions_test)\n",
    "num_errors_valid = count_errors(predictions_valid)\n",
    "print(num_errors_test)\n",
    "print(num_errors_valid)\n",
    "\n",
    "# calculating valid and test error to two decimal places\n",
    "validErrorPercentage = round(num_errors_valid / data_length_valid * 100, 2);\n",
    "testErrorPercentage = round(num_errors_test / data_length_test * 100, 2)\n",
    "\n",
    "errorLabels = ('Validation Set Error', 'Test Set Error')\n",
    "plt.figure(0)\n",
    "plt.title(\"Error in Validation vs Test\")\n",
    "plt.ylabel(\"Error (%)\")\n",
    "plt.bar('Valid', validErrorPercentage)\n",
    "plt.bar('Test', testErrorPercentage)\n",
    "\n",
    "print('Validation set error percentage: ', validErrorPercentage)\n",
    "print('Test set error percentage: ', testErrorPercentage)"
   ]
  },
  {
   "cell_type": "code",
   "execution_count": 107,
   "metadata": {},
   "outputs": [],
   "source": [
    "classifier = AdaBoostClassifier(\n",
    "    DecisionTreeClassifier(max_depth=1),\n",
    "    n_estimators=42\n",
    ")\n",
    "classifier.fit(x_valid, y_valid)\n",
    "predictions_valid = classifier.predict(x_test)\n",
    "results_test = confusion_matrix(y_test, predictions_valid)\n",
    "predictions_valid = classifier.predict(x_valid)\n",
    "results_valid = confusion_matrix(y_valid, predictions_valid)"
   ]
  },
  {
   "cell_type": "code",
   "execution_count": 108,
   "metadata": {},
   "outputs": [
    {
     "name": "stdout",
     "output_type": "stream",
     "text": [
      "Validation set error percentage:  4.42\n",
      "Test set error percentage:  8.01\n"
     ]
    },
    {
     "data": {
      "image/png": "[encoded data removed]",
      "text/plain": [
       "<Figure size 432x288 with 1 Axes>"
      ]
     },
     "metadata": {
      "needs_background": "light"
     },
     "output_type": "display_data"
    }
   ],
   "source": [
    "num_errors_test = results_test[0][1] + results_test[1][0]\n",
    "num_errors_valid = results_valid[0][1] + results_valid[1][0]\n",
    "\n",
    "# calculating valid and test error to two decimal places\n",
    "validErrorPercentage = round(num_errors_valid / data_length_valid * 100, 2);\n",
    "testErrorPercentage = round(num_errors_test / data_length_test * 100, 2)\n",
    "\n",
    "errorLabels = ('Validation Set Error', 'Test Set Error')\n",
    "plt.figure(0)\n",
    "plt.title(\"Error in Validation vs Test\")\n",
    "plt.ylabel(\"Error (%)\")\n",
    "plt.bar('Valid', validErrorPercentage)\n",
    "plt.bar('Test', testErrorPercentage)\n",
    "\n",
    "print('Validation set error percentage: ', validErrorPercentage)\n",
    "print('Test set error percentage: ', testErrorPercentage)"
   ]
  },
  {
   "cell_type": "code",
   "execution_count": null,
   "metadata": {},
   "outputs": [],
   "source": []
  },
  {
   "cell_type": "code",
   "execution_count": null,
   "metadata": {},
   "outputs": [],
   "source": []
  }
 ],
 "metadata": {
  "kernelspec": {
   "display_name": "Python 3",
   "language": "python",
   "name": "python3"
  },
  "language_info": {
   "codemirror_mode": {
    "name": "ipython",
    "version": 3
   },
   "file_extension": ".py",
   "mimetype": "text/x-python",
   "name": "python",
   "nbconvert_exporter": "python",
   "pygments_lexer": "ipython3",
   "version": "3.7.6"
  }
 },
 "nbformat": 4,
 "nbformat_minor": 2
}
