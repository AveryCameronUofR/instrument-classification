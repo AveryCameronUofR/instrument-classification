{
 "cells": [
  {
   "cell_type": "code",
   "execution_count": 38,
   "metadata": {},
   "outputs": [
    {
     "name": "stdout",
     "output_type": "stream",
     "text": [
      "functions declared\n"
     ]
    },
    {
     "name": "stderr",
     "output_type": "stream",
     "text": [
      "c:\\program files (x86)\\microsoft visual studio\\shared\\python37_64\\lib\\site-packages\\ipykernel_launcher.py:90: TqdmDeprecationWarning: This function will be removed in tqdm==5.0.0\n",
      "Please use `tqdm.notebook.tqdm` instead of `tqdm.tqdm_notebook`\n"
     ]
    },
    {
     "data": {
      "application/vnd.jupyter.widget-view+json": {
       "model_id": "a31679ac211a42b6a51dba8955db5be0",
       "version_major": 2,
       "version_minor": 0
      },
      "text/plain": [
       "HBox(children=(FloatProgress(value=0.0, max=425.0), HTML(value='')))"
      ]
     },
     "metadata": {},
     "output_type": "display_data"
    },
    {
     "name": "stdout",
     "output_type": "stream",
     "text": [
      "\n"
     ]
    },
    {
     "ename": "UnboundLocalError",
     "evalue": "local variable 'mfcc_data' referenced before assignment",
     "output_type": "error",
     "traceback": [
      "\u001b[1;31m---------------------------------------------------------------------------\u001b[0m",
      "\u001b[1;31mUnboundLocalError\u001b[0m                         Traceback (most recent call last)",
      "\u001b[1;32m<ipython-input-38-1d621a65fe5d>\u001b[0m in \u001b[0;36m<module>\u001b[1;34m\u001b[0m\n\u001b[0;32m    169\u001b[0m \u001b[0mprint\u001b[0m\u001b[1;33m(\u001b[0m\u001b[1;34m'functions declared'\u001b[0m\u001b[1;33m)\u001b[0m\u001b[1;33m\u001b[0m\u001b[1;33m\u001b[0m\u001b[0m\n\u001b[0;32m    170\u001b[0m \u001b[1;33m\u001b[0m\u001b[0m\n\u001b[1;32m--> 171\u001b[1;33m \u001b[0mkeyboard_df_test\u001b[0m \u001b[1;33m=\u001b[0m \u001b[0mget_dataset\u001b[0m\u001b[1;33m(\u001b[0m\u001b[1;34m'test'\u001b[0m\u001b[1;33m,\u001b[0m \u001b[1;34m'acoustic'\u001b[0m\u001b[1;33m,\u001b[0m \u001b[1;34m'keyboard'\u001b[0m\u001b[1;33m,\u001b[0m \u001b[1;34m'string'\u001b[0m\u001b[1;33m)\u001b[0m\u001b[1;33m\u001b[0m\u001b[1;33m\u001b[0m\u001b[0m\n\u001b[0m\u001b[0;32m    172\u001b[0m \u001b[0mkeyboard_df_test\u001b[0m\u001b[1;33m.\u001b[0m\u001b[0mhead\u001b[0m\u001b[1;33m(\u001b[0m\u001b[1;33m)\u001b[0m\u001b[1;33m\u001b[0m\u001b[1;33m\u001b[0m\u001b[0m\n",
      "\u001b[1;32m<ipython-input-38-1d621a65fe5d>\u001b[0m in \u001b[0;36mget_dataset\u001b[1;34m(data_group, source, class1, class2)\u001b[0m\n\u001b[0;32m     99\u001b[0m     mel_spec_data = pd.DataFrame(featureDf.mel_spec.values.tolist(), \n\u001b[0;32m    100\u001b[0m                                  index=featureDf.index)\n\u001b[1;32m--> 101\u001b[1;33m     \u001b[0mmel_spec_data\u001b[0m \u001b[1;33m=\u001b[0m \u001b[0mmfcc_data\u001b[0m\u001b[1;33m.\u001b[0m\u001b[0madd_prefix\u001b[0m\u001b[1;33m(\u001b[0m\u001b[1;34m'Mel_Spec_'\u001b[0m\u001b[1;33m)\u001b[0m\u001b[1;33m\u001b[0m\u001b[1;33m\u001b[0m\u001b[0m\n\u001b[0m\u001b[0;32m    102\u001b[0m     mfcc_data = pd.DataFrame(featureDf.mfcc.values.tolist(), \n\u001b[0;32m    103\u001b[0m                              index=featureDf.index)\n",
      "\u001b[1;31mUnboundLocalError\u001b[0m: local variable 'mfcc_data' referenced before assignment"
     ]
    }
   ],
   "source": [
    "import librosa\n",
    "import librosa.display\n",
    "import numpy as np\n",
    "import matplotlib.pyplot as plt\n",
    "import pandas as pd\n",
    "import pickle\n",
    "import time\n",
    "from tqdm import tqdm_notebook\n",
    "from sklearn import tree\n",
    "from sklearn.ensemble import AdaBoostClassifier\n",
    "from sklearn.tree import DecisionTreeClassifier\n",
    "import numpy as np\n",
    "from sklearn.metrics import confusion_matrix\n",
    "from sklearn.preprocessing import LabelEncoder\n",
    "\n",
    "\"\"\"\n",
    "Name: feature_extract\n",
    "Input: String name of file to analyze\n",
    "Returns: \n",
    "Array of:\n",
    "    y_harmonic\n",
    "    y_percussive \n",
    "    chroma_cens \n",
    "    mfcc\n",
    "    mel_spec\n",
    "    spec_contrast\n",
    "Note: \n",
    "    MFCC and Chroma_cens are arrays of 12\n",
    "    Mel_spec and spec_contrast are also closed.\n",
    "\"\"\"\n",
    "def feature_extract(file):\n",
    "    y, sr = librosa.load(file, sr=None)\n",
    "    \n",
    "    hop_length = 512\n",
    "    \n",
    "    # Separate harmonics and percussives into two waveforms\n",
    "    y_harmonic, y_percussive = librosa.effects.hpss(y)    \n",
    "    \n",
    "    #Chroma Energy Normalized (CENS)\n",
    "    chroma_cens = librosa.feature.chroma_cens(y=y, sr=sr)\n",
    "    \n",
    "    #Mel Spectrogram\n",
    "    mel_spec = librosa.feature.melspectrogram(y=y, sr=sr, n_mels=128, \n",
    "                                                 fmax = 8000)\n",
    "    #Mel-Frequency Cepstral Coefficients (MFCC) features from the raw signal\n",
    "    mfcc = librosa.feature.mfcc(y=y, sr=sr, hop_length=hop_length, n_mfcc=13)\n",
    "    \n",
    "    #Spectral Contrast\n",
    "    spec_contrast = librosa.feature.spectral_contrast(y=y, sr=sr)\n",
    "    \n",
    "    y_harmonic = np.mean(y_harmonic)\n",
    "    y_percussive = np.mean(y_percussive)\n",
    "    mel_spec = np.mean(mel_spec, axis=1)\n",
    "    mfcc = np.mean(mfcc, axis=1)\n",
    "    chroma_cens = np.mean(chroma_cens,axis=1)\n",
    "    spec_contrast = np.mean(spec_contrast, axis=1)\n",
    "    \n",
    "    return [y_harmonic, y_percussive, chroma_cens, mfcc, mel_spec, \n",
    "            spec_contrast]\n",
    "\n",
    "\"\"\"\n",
    "Name: get_dataset\n",
    "Input: \n",
    "    data_group: Train, valid, test set name\n",
    "    source: Acoustic, electronic, synthetic\n",
    "    class1: instrument 1 to identifiy\n",
    "    class2: second instrument to identify\n",
    "Returns: \n",
    "Array of:\n",
    "    y_harmonic\n",
    "    y_percussive \n",
    "    mel_spec\n",
    "    mfcc_0-12\n",
    "    chroma_0-12\n",
    "    spec_contrast\n",
    "\"\"\"\n",
    "def get_dataset(data_group, source, class1, class2):\n",
    "    #set the audio directory (test, train, etc)\n",
    "    new_dir='Dataset/nsynth-'+data_group+'/audio/'     \n",
    "    dataframe_raw = pd.read_json(path_or_buf='Dataset/nsynth-'+dataGroup+'/examples.json', orient='index') #read all instruments from examples.json\n",
    "    dataframe_specific = dataframe_raw.loc[(dataframe_raw['instrument_family_str'] == class1) | (dataframe_raw['instrument_family_str'] == class2)]           #narrow down by family (strings, etc)\n",
    "    dataframe_specific = dataframe_specific.loc[dataframe_specific['instrument_source_str'] == source]     #narrow down by source (acoustic, etc)\n",
    "    \n",
    "    Y = dataframe_specific.instrument_family_str.replace(to_replace=[class1, class2], value=[0, 1])\n",
    "    filenames = dataframe_specific.index.tolist()     #get filenames from our dataframe, put into list\n",
    "    \n",
    "    dictionary = {}\n",
    "    #Create the dictionary of files.\n",
    "    #Note: TQDM is a loading bar\n",
    "    for file in tqdm_notebook(filenames):           \n",
    "        features = feature_extract((new_dir+file+'.wav'))\n",
    "        dictionary[file] = features\n",
    "    \n",
    "    featureDf = pd.DataFrame.from_dict(dictionary, orient='index',\n",
    "                                       columns=['y_harmonic', 'y_percussive', 'chroma_cens', \n",
    "                                                'mfcc', 'mel_spec', 'spec_contrast'])\n",
    "    \n",
    "    #Take averages of each coefficient etc and create their own feature\n",
    "    mel_spec_data = pd.DataFrame(featureDf.mel_spec.values.tolist(), \n",
    "                                 index=featureDf.index)\n",
    "    mel_spec_data = mfcc_data.add_prefix('Mel_Spec_')\n",
    "    mfcc_data = pd.DataFrame(featureDf.mfcc.values.tolist(), \n",
    "                             index=featureDf.index)\n",
    "    mfcc_data = mfcc_data.add_prefix('MFCC_')\n",
    "    chroma_data = pd.DataFrame(featureDf.chroma.values.tolist(), \n",
    "                               index=featureDf.index)\n",
    "    chroma_data = mfcc_data.add_prefix('Chroma_')\n",
    "    spec_contrast_data = pd.DataFrame(featureDf.spec_contrast.values.tolist(), \n",
    "                                      index=featureDf.index)\n",
    "    spec_contrast_data = mfcc_data.add_prefix('Spec_Contrast_')\n",
    "    \n",
    "    #Drop the old feature columns\n",
    "    featureDf = featureDf.drop(\n",
    "        labels=['mel_spec', 'mfcc',\n",
    "                'chroma_cens', 'spec_contrast'],\n",
    "                                       axis=1)\n",
    "    #Add the extracted features\n",
    "    featureDf = pd.concat([featureDf, mel_spec_data, mfcc_data, \n",
    "                           chroma_data, spec_contrast_data],\n",
    "                         axis = 1, join='inner')\n",
    "    \n",
    "    qualities =  pd.DataFrame(dataframe_specific.qualities.values.tolist(), \n",
    "                         index = dataframe_specific.index)\n",
    "    dataframe_specific = dataframe_specific.drop(labeles=['instrument', 'instrument_family',\n",
    "                                                          'instrument_family_str', 'instrument_source',\n",
    "                                                          'instrument_source_str', 'instrument_str',\n",
    "                                                          'note', 'note_str', 'pitch',\n",
    "                                                          'qualities_str', 'sample_rate',\n",
    "                                                         'qualities'], axis=1)\n",
    "    \n",
    "    featureFinal = pd.concat([dataframe_specific, featureDf, qualities], axis=1, sort=False)\n",
    "    \n",
    "    featureFinal['targetValue'] = Y\n",
    "    featureFinal.to_csv('./'+dataGroup+'.csv')\n",
    "    \n",
    "    #returns dataframe of features\n",
    "    return featureDf \n",
    "\n",
    "\"\"\"\n",
    "Name: equalize_data\n",
    "Input: \n",
    "    class1: Data in class1\n",
    "    class2: Data in class2\n",
    "Returns: \n",
    "    equalized data from training\n",
    "\"\"\"\n",
    "def equalize_data(class1, class2):\n",
    "    class1_copy = class1\n",
    "    class2_copy = class2  \n",
    "    if (class1_copy['y_harmonic'].count() < class2_copy['y_harmonic'].count()):\n",
    "        while (class1_copy['y_harmonic'].count()<class2_copy['y_harmonic'].count()): \n",
    "            temp = [class1_copy, class1]\n",
    "            class2_copy = pd.concat(temp)\n",
    "        class2_copy = class2_copy[:class1_copy['y_harmonic'].count()]\n",
    "    else:\n",
    "        while (class2_copy['y_harmonic'].count()<class1_copy['y_harmonic'].count()):\n",
    "            temp = [class2_copy, class2]\n",
    "            class2_copy = pd.concat(temp)\n",
    "        class2_copy = class2_copy[:class1_copy['y_harmonic'].count()]\n",
    "    return (class1_copy, class2_copy)\n",
    "\n",
    "def count_errors(predictions):\n",
    "    count = 0;\n",
    "    for pred in predictions:\n",
    "        if (pred[0] != pred[1]):\n",
    "            count += 1\n",
    "    return count;\n",
    "\n",
    "print('functions declared')\n",
    "\n",
    "keyboard_df_test = get_dataset('test', 'acoustic', 'keyboard', 'string')\n",
    "keyboard_df_test.head()"
   ]
  },
  {
   "cell_type": "code",
   "execution_count": 20,
   "metadata": {
    "scrolled": true
   },
   "outputs": [
    {
     "name": "stderr",
     "output_type": "stream",
     "text": [
      "c:\\program files (x86)\\microsoft visual studio\\shared\\python37_64\\lib\\site-packages\\ipykernel_launcher.py:56: TqdmDeprecationWarning: This function will be removed in tqdm==5.0.0\n",
      "Please use `tqdm.notebook.tqdm` instead of `tqdm.tqdm_notebook`\n"
     ]
    },
    {
     "data": {
      "application/vnd.jupyter.widget-view+json": {
       "model_id": "5ff3321292134de8aef699771beb44bc",
       "version_major": 2,
       "version_minor": 0
      },
      "text/plain": [
       "HBox(children=(FloatProgress(value=0.0, max=306.0), HTML(value='')))"
      ]
     },
     "metadata": {},
     "output_type": "display_data"
    },
    {
     "name": "stdout",
     "output_type": "stream",
     "text": [
      "\n"
     ]
    },
    {
     "data": {
      "application/vnd.jupyter.widget-view+json": {
       "model_id": "74e3f3433ef8459bbc42e095a78dfe5f",
       "version_major": 2,
       "version_minor": 0
      },
      "text/plain": [
       "HBox(children=(FloatProgress(value=0.0, max=119.0), HTML(value='')))"
      ]
     },
     "metadata": {},
     "output_type": "display_data"
    },
    {
     "name": "stdout",
     "output_type": "stream",
     "text": [
      "\n"
     ]
    },
    {
     "data": {
      "application/vnd.jupyter.widget-view+json": {
       "model_id": "d5ee9ba59e934b9c8152404ebacd2e99",
       "version_major": 2,
       "version_minor": 0
      },
      "text/plain": [
       "HBox(children=(FloatProgress(value=0.0, max=814.0), HTML(value='')))"
      ]
     },
     "metadata": {},
     "output_type": "display_data"
    },
    {
     "name": "stdout",
     "output_type": "stream",
     "text": [
      "\n"
     ]
    },
    {
     "data": {
      "application/vnd.jupyter.widget-view+json": {
       "model_id": "9181847893854d9a828686175127bc5d",
       "version_major": 2,
       "version_minor": 0
      },
      "text/plain": [
       "HBox(children=(FloatProgress(value=0.0, max=321.0), HTML(value='')))"
      ]
     },
     "metadata": {},
     "output_type": "display_data"
    },
    {
     "name": "stdout",
     "output_type": "stream",
     "text": [
      "\n"
     ]
    }
   ],
   "source": [
    "CLASS_NAMES=['bass', 'brass', 'flute', 'guitar', \n",
    "             'keyboard', 'mallet', 'organ', 'reed', \n",
    "             'string', 'synth_lead', 'vocal']\n",
    "\n",
    "SOURCE_NAMES=['acoustic', 'electronic', 'synthetic']\n",
    "DATA_GROUPS=['test', 'valid', 'train']\n",
    "\n",
    "dataGroup = DATA_GROUPS[0]    #SET IF YOU WANT TEST, TRAIN, OR VALID (IF YOU HAVE IT)\n",
    "source = SOURCE_NAMES[0]      #SET ACOUSTIC, ELECTRONIC, SYNTHETIC\n",
    "\n",
    "# get string members from dataset\n",
    "string_df_test = getDataset('test', 'string', 'acoustic')\n",
    "\n",
    "# get keyboard members\n",
    "keyboard_df_test = getDataset('test', 'keyboard', 'acoustic')\n",
    "\n",
    "# get string members from dataset\n",
    "string_df_valid = getDataset('valid', 'string', 'acoustic')\n",
    "\n",
    "# get keyboard members\n",
    "keyboard_df_valid = getDataset('valid', 'keyboard', 'acoustic')"
   ]
  },
  {
   "cell_type": "code",
   "execution_count": 22,
   "metadata": {},
   "outputs": [],
   "source": [
    "# balance the datasets\n",
    "(string_df_test, keyboard_df_test) = equalize_data(string_df_test, keyboard_df_test)\n",
    "input_df_test = pd.concat([string_df_test, keyboard_df_test])\n",
    "\n",
    "(string_df_valid, keyboard_df_valid) = equalize_data(string_df_valid, keyboard_df_valid)\n",
    "input_df_valid = pd.concat([string_df_valid, keyboard_df_valid])\n",
    "\n",
    "# adding targets to dataframes\n",
    "string_df_test['target'] = 8\n",
    "keyboard_df_test['target'] = 4\n",
    "\n",
    "string_df_valid['target'] = 8\n",
    "keyboard_df_valid['target'] = 4\n",
    "\n",
    "# randomize datasets\n",
    "input_df_test = input_df_test.sample(frac=1).reset_index(drop=True)\n",
    "input_df_valid = input_df_valid.sample(frac=1).reset_index(drop=True)\n",
    "\n",
    "\n",
    "# encoding target as 0 for keyboard, 1 for string\n",
    "y_test = input_df_test['target'].map(lambda target: 0 if (target == 4) else 1).values.tolist()\n",
    "x_test = input_df_test.drop(labels=['target'], axis=1)\n",
    "\n",
    "\n",
    "# encoding target as 0 for keyboard, 1 for string\n",
    "y_valid = input_df_valid['target'].map(lambda target: 0 if (target == 4) else 1).values.tolist()\n",
    "x_valid = input_df_valid.drop(labels=['target'], axis=1)\n",
    "\n",
    "data_length_test = len(x_test)\n",
    "data_length_valid = len(x_valid)"
   ]
  },
  {
   "cell_type": "code",
   "execution_count": 23,
   "metadata": {},
   "outputs": [],
   "source": [
    "def simple_decision_tree(max_depth):\n",
    "    # hyperparameters\n",
    "    # max_depth of 4 seems to work well for training with validation set\n",
    "\n",
    "    # create a scikit-learn tree based on validation set\n",
    "    clf = tree.DecisionTreeClassifier(max_depth=max_depth)\n",
    "    clf = clf.fit(x_valid, y_valid)\n",
    "\n",
    "    # make predictions\n",
    "    predictions_test = np.vstack((y_test, clf.predict(x_test).tolist())).T\n",
    "    predictions_valid = np.vstack((y_valid, clf.predict(x_valid).tolist())).T\n",
    "\n",
    "    num_errors_test = count_errors(predictions_test)\n",
    "    num_errors_valid = count_errors(predictions_valid)\n",
    "\n",
    "    # calculating valid and test error to two decimal places\n",
    "    validErrorPercentage = round(num_errors_valid / data_length_valid * 100, 2);\n",
    "    testErrorPercentage = round(num_errors_test / data_length_test * 100, 2)\n",
    "\n",
    "    errorLabels = ('Validation Set Error', 'Test Set Error')\n",
    "    plt.figure(0)\n",
    "    plt.title(\"Error in Validation vs Test\")\n",
    "    plt.ylabel(\"Error (%)\")\n",
    "    plt.bar('Valid', validErrorPercentage)\n",
    "    plt.bar('Test', testErrorPercentage)\n",
    "\n",
    "    print('Validation set error percentage: ', validErrorPercentage)\n",
    "    print('Test set error percentage: ', testErrorPercentage)\n"
   ]
  },
  {
   "cell_type": "code",
   "execution_count": 24,
   "metadata": {},
   "outputs": [
    {
     "name": "stdout",
     "output_type": "stream",
     "text": [
      "Validation set error percentage:  9.71\n",
      "Test set error percentage:  10.62\n"
     ]
    },
    {
     "data": {
      "image/png": "[encoded data removed]",
      "text/plain": [
       "<Figure size 432x288 with 1 Axes>"
      ]
     },
     "metadata": {
      "needs_background": "light"
     },
     "output_type": "display_data"
    }
   ],
   "source": [
    "# fit a tree to our data and plot error\n",
    "simple_decision_tree(4)"
   ]
  },
  {
   "cell_type": "code",
   "execution_count": 25,
   "metadata": {},
   "outputs": [],
   "source": [
    "def ada_boost(estimators):\n",
    "    classifier = AdaBoostClassifier(\n",
    "        DecisionTreeClassifier(max_depth=1),\n",
    "        n_estimators=estimators\n",
    "    )\n",
    "    classifier.fit(x_valid, y_valid)\n",
    "    predictions_test = classifier.predict(x_test)\n",
    "    results_test = confusion_matrix(y_test, predictions_test)\n",
    "    predictions_valid = classifier.predict(x_valid)\n",
    "    results_valid = confusion_matrix(y_valid, predictions_valid)\n",
    "    \n",
    "    num_errors_test = results_test[0][1] + results_test[1][0]\n",
    "    num_errors_valid = results_valid[0][1] + results_valid[1][0]\n",
    "    \n",
    "    # calculating valid and test error to two decimal places\n",
    "    data_length_test = len(predictions_test)\n",
    "    data_length_valid = len(predictions_valid)\n",
    "    validErrorPercentage = round(num_errors_valid / data_length_valid * 100, 2);\n",
    "    testErrorPercentage = round(num_errors_test / data_length_test * 100, 2)\n",
    "\n",
    "    errorLabels = ('Validation Set Error', 'Test Set Error')\n",
    "    plt.figure(0)\n",
    "    plt.title(\"Error in Validation vs Test\")\n",
    "    plt.ylabel(\"Error (%)\")\n",
    "    plt.bar('Valid', validErrorPercentage)\n",
    "    plt.bar('Test', testErrorPercentage)\n",
    "\n",
    "    print('Validation set error percentage: ', validErrorPercentage)\n",
    "    print('Test set error percentage: ', testErrorPercentage)"
   ]
  },
  {
   "cell_type": "code",
   "execution_count": 26,
   "metadata": {},
   "outputs": [
    {
     "name": "stdout",
     "output_type": "stream",
     "text": [
      "Validation set error percentage:  3.69\n",
      "Test set error percentage:  8.01\n"
     ]
    },
    {
     "data": {
      "image/png": "[encoded data removed]",
      "text/plain": [
       "<Figure size 432x288 with 1 Axes>"
      ]
     },
     "metadata": {
      "needs_background": "light"
     },
     "output_type": "display_data"
    }
   ],
   "source": [
    "ada_boost(50)"
   ]
  },
  {
   "cell_type": "code",
   "execution_count": null,
   "metadata": {},
   "outputs": [],
   "source": []
  }
 ],
 "metadata": {
  "kernelspec": {
   "display_name": "Python 3",
   "language": "python",
   "name": "python3"
  },
  "language_info": {
   "codemirror_mode": {
    "name": "ipython",
    "version": 3
   },
   "file_extension": ".py",
   "mimetype": "text/x-python",
   "name": "python",
   "nbconvert_exporter": "python",
   "pygments_lexer": "ipython3",
   "version": "3.7.6"
  }
 },
 "nbformat": 4,
 "nbformat_minor": 2
}
