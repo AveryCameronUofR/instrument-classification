{
 "cells": [
  {
   "cell_type": "code",
   "execution_count": 1,
   "metadata": {},
   "outputs": [
    {
     "name": "stdout",
     "output_type": "stream",
     "text": [
      "functions declared\n"
     ]
    }
   ],
   "source": [
    "import librosa\n",
    "import librosa.display\n",
    "import numpy as np\n",
    "import matplotlib.pyplot as plt\n",
    "import pandas as pd\n",
    "import pickle\n",
    "import time\n",
    "from tqdm import tqdm_notebook\n",
    "from sklearn import tree\n",
    "from sklearn.ensemble import AdaBoostClassifier\n",
    "from sklearn.tree import DecisionTreeClassifier\n",
    "import numpy as np\n",
    "from sklearn.metrics import confusion_matrix\n",
    "from sklearn.preprocessing import LabelEncoder\n",
    "\n",
    "def feature_extract_averages(file):\n",
    "    y, sr = librosa.load(file, sr=None)\n",
    "    \n",
    "    hop_length = 512\n",
    "    \n",
    "    # Separate harmonics and percussives into two waveforms\n",
    "    y_harmonic, y_percussive = librosa.effects.hpss(y)    \n",
    "    \n",
    "    #Chroma Energy Normalized (CENS)\n",
    "    chroma_cens = librosa.feature.chroma_cens(y=y, sr=sr)\n",
    "    \n",
    "    #Mel Spectrogram\n",
    "    mel_spec = librosa.feature.melspectrogram(y=y, sr=sr, n_mels=128, \n",
    "                                                 fmax = 8000)\n",
    "    #Mel-Frequency Cepstral Coefficients (MFCC) features from the raw signal\n",
    "    mfcc = librosa.feature.mfcc(y=y, sr=sr, hop_length=hop_length, n_mfcc=13)\n",
    "    \n",
    "    #Spectral Contrast\n",
    "    spec_contrast = librosa.feature.spectral_contrast(y=y, sr=sr)\n",
    "    \n",
    "    y_harmonic = np.mean(y_harmonic)\n",
    "    y_percussive = np.mean(y_percussive)\n",
    "    mel_spec = np.mean(mel_spec)\n",
    "    mfcc = np.mean(mfcc)\n",
    "    chroma_cens = np.mean(chroma_cens)\n",
    "    spec_contrast = np.mean(spec_contrast)\n",
    "    \n",
    "    return [y_harmonic, y_percussive, chroma_cens, mfcc, mel_spec, \n",
    "            spec_contrast]\n",
    "\n",
    "def getDataset(dataGroup, instrument, source):\n",
    "    \n",
    "    new_dir='Dataset/nsynth-'+dataGroup+'/audio/'     #set the audio directory (test, train, etc)\n",
    "    dataframe_raw = pd.read_json(path_or_buf='Dataset/nsynth-'+dataGroup+'/examples.json', orient='index') #read all instruments from examples.json\n",
    "    dataframe_specific = dataframe_raw.loc[dataframe_raw['instrument_family_str'] == instrument]           #narrow down by family (strings, etc)\n",
    "    dataframe_specific = dataframe_specific.loc[dataframe_specific['instrument_source_str'] == source]     #narrow down by source (acoustic, etc)\n",
    "\n",
    "    filenames = dataframe_specific.index.tolist()     #get filenames from our dataframe, put into list\n",
    "    \n",
    "    dictionary = {}\n",
    "    for file in tqdm_notebook(filenames):             #for all files in filenames. Also,  tqdm is a loading bar\n",
    "        features = feature_extract_averages((new_dir+file+'.wav')) #specify directory, file, then add .wav. we will perform feature_extract with the file\n",
    "        dictionary[file] = features                       #make dictionary using file as rows - features as columns\n",
    "    featureDf = pd.DataFrame.from_dict(dictionary, orient='index', #turn into dataframe\n",
    "                                       columns=['y_harmonic', 'y_percussive', 'chroma_cens', \n",
    "                                                'mfcc', 'mel_spec', 'spec_contrast'])\n",
    "    \n",
    "    return featureDf #returns dataframe of features\n",
    "    \n",
    "def equalize_data(class1, class2):\n",
    "    class1_copy = class1\n",
    "    class2_copy = class2  \n",
    "    if (class1_copy['y_harmonic'].count() < class2_copy['y_harmonic'].count()):\n",
    "        while (class1_copy['y_harmonic'].count()<class2_copy['y_harmonic'].count()): \n",
    "            temp = [class1_copy, class1]\n",
    "            class2_copy = pd.concat(temp)\n",
    "        class2_copy = class2_copy[:class1_copy['y_harmonic'].count()]\n",
    "    else:\n",
    "        while (class2_copy['y_harmonic'].count()<class1_copy['y_harmonic'].count()):\n",
    "            temp = [class2_copy, class2]\n",
    "            class2_copy = pd.concat(temp)\n",
    "        class2_copy = class2_copy[:class1_copy['y_harmonic'].count()]\n",
    "    return (class1_copy, class2_copy)\n",
    "\n",
    "def count_errors(predictions):\n",
    "    count = 0;\n",
    "    for pred in predictions:\n",
    "        if (pred[0] != pred[1]):\n",
    "            count += 1\n",
    "    return count;\n",
    "\n",
    "print('functions declared')\n"
   ]
  },
  {
   "cell_type": "code",
   "execution_count": 2,
   "metadata": {},
   "outputs": [
    {
     "data": {
      "application/vnd.jupyter.widget-view+json": {
       "model_id": "f04a959076684e32bb5de74b972d5157",
       "version_major": 2,
       "version_minor": 0
      },
      "text/plain": [
       "HBox(children=(IntProgress(value=0, max=306), HTML(value='')))"
      ]
     },
     "metadata": {},
     "output_type": "display_data"
    },
    {
     "name": "stdout",
     "output_type": "stream",
     "text": [
      "\n"
     ]
    },
    {
     "data": {
      "application/vnd.jupyter.widget-view+json": {
       "model_id": "b9d5b818bd234b64bb36f60eece4a4aa",
       "version_major": 2,
       "version_minor": 0
      },
      "text/plain": [
       "HBox(children=(IntProgress(value=0, max=119), HTML(value='')))"
      ]
     },
     "metadata": {},
     "output_type": "display_data"
    },
    {
     "name": "stdout",
     "output_type": "stream",
     "text": [
      "\n"
     ]
    },
    {
     "data": {
      "application/vnd.jupyter.widget-view+json": {
       "model_id": "b5bd85cc919b493cac5b28b4a2359041",
       "version_major": 2,
       "version_minor": 0
      },
      "text/plain": [
       "HBox(children=(IntProgress(value=0, max=814), HTML(value='')))"
      ]
     },
     "metadata": {},
     "output_type": "display_data"
    },
    {
     "name": "stdout",
     "output_type": "stream",
     "text": [
      "\n"
     ]
    },
    {
     "data": {
      "application/vnd.jupyter.widget-view+json": {
       "model_id": "d76068f86ce84a0c949280beaa3a2959",
       "version_major": 2,
       "version_minor": 0
      },
      "text/plain": [
       "HBox(children=(IntProgress(value=0, max=321), HTML(value='')))"
      ]
     },
     "metadata": {},
     "output_type": "display_data"
    },
    {
     "name": "stdout",
     "output_type": "stream",
     "text": [
      "\n"
     ]
    }
   ],
   "source": [
    "CLASS_NAMES=['bass', 'brass', 'flute', 'guitar', \n",
    "             'keyboard', 'mallet', 'organ', 'reed', \n",
    "             'string', 'synth_lead', 'vocal']\n",
    "\n",
    "SOURCE_NAMES=['acoustic', 'electronic', 'synthetic']\n",
    "DATA_GROUPS=['test', 'valid', 'train']\n",
    "\n",
    "dataGroup = DATA_GROUPS[0]    #SET IF YOU WANT TEST, TRAIN, OR VALID (IF YOU HAVE IT)\n",
    "source = SOURCE_NAMES[0]      #SET ACOUSTIC, ELECTRONIC, SYNTHETIC\n",
    "\n",
    "# get string members from dataset\n",
    "string_df_test = getDataset('test', 'string', 'acoustic')\n",
    "\n",
    "# get keyboard members\n",
    "keyboard_df_test = getDataset('test', 'keyboard', 'acoustic')\n",
    "\n",
    "# get string members from dataset\n",
    "string_df_valid = getDataset('valid', 'string', 'acoustic')\n",
    "\n",
    "# get keyboard members\n",
    "keyboard_df_valid = getDataset('valid', 'keyboard', 'acoustic')"
   ]
  },
  {
   "cell_type": "code",
   "execution_count": 18,
   "metadata": {},
   "outputs": [],
   "source": [
    "# balance the datasets\n",
    "(string_df_test, keyboard_df_test) = equalize_data(string_df_test, keyboard_df_test)\n",
    "input_df_test = pd.concat([string_df_test, keyboard_df_test])\n",
    "\n",
    "(string_df_valid, keyboard_df_valid) = equalize_data(string_df_valid, keyboard_df_valid)\n",
    "input_df_valid = pd.concat([string_df_valid, keyboard_df_valid])\n",
    "\n",
    "# adding targets to dataframes\n",
    "string_df_test['target'] = 8\n",
    "keyboard_df_test['target'] = 4\n",
    "\n",
    "string_df_valid['target'] = 8\n",
    "keyboard_df_valid['target'] = 4\n",
    "\n",
    "# randomize datasets\n",
    "input_df_test = input_df_test.sample(frac=1).reset_index(drop=True)\n",
    "input_df_valid = input_df_valid.sample(frac=1).reset_index(drop=True)\n",
    "\n",
    "# creating input and target arrays\n",
    "feature_names = ['y_harmonic', 'y_percussive', 'chroma_cens', 'mfcc', 'mel_spec', 'spec_contrast']\n",
    "\n",
    "x_test = input_df_test[feature_names].values.tolist()\n",
    "# encoding target as 0 for keyboard, 1 for string\n",
    "y_test = input_df_test['target'].map(lambda target: 0 if (target == 4) else 1).values.tolist()\n",
    "\n",
    "x_valid = input_df_valid[feature_names].values.tolist()\n",
    "# encoding target as 0 for keyboard, 1 for string\n",
    "y_valid = input_df_valid['target'].map(lambda target: 0 if (target == 4) else 1).values.tolist()"
   ]
  },
  {
   "cell_type": "code",
   "execution_count": 19,
   "metadata": {},
   "outputs": [],
   "source": [
    "def simple_decision_tree(max_depth):\n",
    "    # hyperparameters\n",
    "    # max_depth of 4 seems to work well for training with validation set\n",
    "\n",
    "    # create a scikit-learn tree based on validation set\n",
    "    clf = tree.DecisionTreeClassifier(max_depth=max_depth)\n",
    "    clf = clf.fit(x_valid, y_valid)\n",
    "\n",
    "    # make predictions\n",
    "    predictions_test = np.vstack((y_test, clf.predict(x_test).tolist())).T\n",
    "    predictions_valid = np.vstack((y_valid, clf.predict(x_valid).tolist())).T\n",
    "\n",
    "    data_length_test = len(predictions_test)\n",
    "    data_length_valid = len(predictions_valid)\n",
    "\n",
    "    num_errors_test = count_errors(predictions_test)\n",
    "    num_errors_valid = count_errors(predictions_valid)\n",
    "\n",
    "    # calculating valid and test error to two decimal places\n",
    "    validErrorPercentage = round(num_errors_valid / data_length_valid * 100, 2);\n",
    "    testErrorPercentage = round(num_errors_test / data_length_test * 100, 2)\n",
    "\n",
    "    errorLabels = ('Validation Set Error', 'Test Set Error')\n",
    "    plt.figure(0)\n",
    "    plt.title(\"Error in Validation vs Test\")\n",
    "    plt.ylabel(\"Error (%)\")\n",
    "    plt.bar('Valid', validErrorPercentage)\n",
    "    plt.bar('Test', testErrorPercentage)\n",
    "\n",
    "    print('Validation set error percentage: ', validErrorPercentage)\n",
    "    print('Test set error percentage: ', testErrorPercentage)\n"
   ]
  },
  {
   "cell_type": "code",
   "execution_count": 34,
   "metadata": {},
   "outputs": [
    {
     "name": "stdout",
     "output_type": "stream",
     "text": [
      "Validation set error percentage:  9.46\n",
      "Test set error percentage:  10.95\n"
     ]
    },
    {
     "data": {
      "image/png": "[encoded data removed]",
      "text/plain": [
       "<Figure size 432x288 with 1 Axes>"
      ]
     },
     "metadata": {
      "needs_background": "light"
     },
     "output_type": "display_data"
    }
   ],
   "source": [
    "# fit a tree to our data and plot error\n",
    "simple_decision_tree(4)"
   ]
  },
  {
   "cell_type": "code",
   "execution_count": 39,
   "metadata": {},
   "outputs": [],
   "source": [
    "classifier = AdaBoostClassifier(\n",
    "    DecisionTreeClassifier(max_depth=1),\n",
    "    n_estimators=42\n",
    ")\n",
    "classifier.fit(x_valid, y_valid)\n",
    "predictions_valid = classifier.predict(x_test)\n",
    "results_test = confusion_matrix(y_test, predictions_valid)\n",
    "predictions_valid = classifier.predict(x_valid)\n",
    "results_valid = confusion_matrix(y_valid, predictions_valid)"
   ]
  },
  {
   "cell_type": "code",
   "execution_count": 40,
   "metadata": {},
   "outputs": [
    {
     "ename": "NameError",
     "evalue": "name 'data_length_valid' is not defined",
     "output_type": "error",
     "traceback": [
      "\u001b[1;31m---------------------------------------------------------------------------\u001b[0m",
      "\u001b[1;31mNameError\u001b[0m                                 Traceback (most recent call last)",
      "\u001b[1;32m<ipython-input-40-c082a7c3efcf>\u001b[0m in \u001b[0;36m<module>\u001b[1;34m\u001b[0m\n\u001b[0;32m      3\u001b[0m \u001b[1;33m\u001b[0m\u001b[0m\n\u001b[0;32m      4\u001b[0m \u001b[1;31m# calculating valid and test error to two decimal places\u001b[0m\u001b[1;33m\u001b[0m\u001b[1;33m\u001b[0m\u001b[1;33m\u001b[0m\u001b[0m\n\u001b[1;32m----> 5\u001b[1;33m \u001b[0mvalidErrorPercentage\u001b[0m \u001b[1;33m=\u001b[0m \u001b[0mround\u001b[0m\u001b[1;33m(\u001b[0m\u001b[0mnum_errors_valid\u001b[0m \u001b[1;33m/\u001b[0m \u001b[0mdata_length_valid\u001b[0m \u001b[1;33m*\u001b[0m \u001b[1;36m100\u001b[0m\u001b[1;33m,\u001b[0m \u001b[1;36m2\u001b[0m\u001b[1;33m)\u001b[0m\u001b[1;33m;\u001b[0m\u001b[1;33m\u001b[0m\u001b[1;33m\u001b[0m\u001b[0m\n\u001b[0m\u001b[0;32m      6\u001b[0m \u001b[0mtestErrorPercentage\u001b[0m \u001b[1;33m=\u001b[0m \u001b[0mround\u001b[0m\u001b[1;33m(\u001b[0m\u001b[0mnum_errors_test\u001b[0m \u001b[1;33m/\u001b[0m \u001b[0mdata_length_test\u001b[0m \u001b[1;33m*\u001b[0m \u001b[1;36m100\u001b[0m\u001b[1;33m,\u001b[0m \u001b[1;36m2\u001b[0m\u001b[1;33m)\u001b[0m\u001b[1;33m\u001b[0m\u001b[1;33m\u001b[0m\u001b[0m\n\u001b[0;32m      7\u001b[0m \u001b[1;33m\u001b[0m\u001b[0m\n",
      "\u001b[1;31mNameError\u001b[0m: name 'data_length_valid' is not defined"
     ]
    }
   ],
   "source": [
    "num_errors_test = results_test[0][1] + results_test[1][0]\n",
    "num_errors_valid = results_valid[0][1] + results_valid[1][0]\n",
    "\n",
    "# calculating valid and test error to two decimal places\n",
    "validErrorPercentage = round(num_errors_valid / data_length_valid * 100, 2);\n",
    "testErrorPercentage = round(num_errors_test / data_length_test * 100, 2)\n",
    "\n",
    "errorLabels = ('Validation Set Error', 'Test Set Error')\n",
    "plt.figure(0)\n",
    "plt.title(\"Error in Validation vs Test\")\n",
    "plt.ylabel(\"Error (%)\")\n",
    "plt.bar('Valid', validErrorPercentage)\n",
    "plt.bar('Test', testErrorPercentage)\n",
    "\n",
    "print('Validation set error percentage: ', validErrorPercentage)\n",
    "print('Test set error percentage: ', testErrorPercentage)"
   ]
  },
  {
   "cell_type": "code",
   "execution_count": null,
   "metadata": {},
   "outputs": [],
   "source": []
  },
  {
   "cell_type": "code",
   "execution_count": null,
   "metadata": {},
   "outputs": [],
   "source": []
  }
 ],
 "metadata": {
  "kernelspec": {
   "display_name": "Python 3",
   "language": "python",
   "name": "python3"
  },
  "language_info": {
   "codemirror_mode": {
    "name": "ipython",
    "version": 3
   },
   "file_extension": ".py",
   "mimetype": "text/x-python",
   "name": "python",
   "nbconvert_exporter": "python",
   "pygments_lexer": "ipython3",
   "version": "3.7.4"
  }
 },
 "nbformat": 4,
 "nbformat_minor": 2
}
