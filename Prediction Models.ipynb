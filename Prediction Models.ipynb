{
 "cells": [
  {
   "cell_type": "markdown",
   "metadata": {},
   "source": [
    "## Prediction Models\n",
    "Predict the instrument based on the input csv files from build dataset.\n",
    "Uses various sklearn classification models and plots error%"
   ]
  },
  {
   "cell_type": "code",
   "execution_count": 5,
   "metadata": {},
   "outputs": [],
   "source": [
    "import numpy as np\n",
    "import matplotlib.pyplot as plt\n",
    "import pandas as pd\n",
    "from sklearn import tree\n",
    "from sklearn.ensemble import AdaBoostClassifier\n",
    "from sklearn.tree import DecisionTreeClassifier\n",
    "from sklearn.preprocessing import LabelEncoder\n",
    "from sklearn.metrics import confusion_matrix\n",
    "from sklearn.ensemble import RandomForestClassifier\n",
    "from sklearn.neighbors import KNeighborsClassifier\n",
    "from sklearn import svm\n",
    "from sklearn import metrics"
   ]
  },
  {
   "cell_type": "markdown",
   "metadata": {},
   "source": [
    "### Load the Datasets\n",
    "Load the data from the created csv files."
   ]
  },
  {
   "cell_type": "code",
   "execution_count": 6,
   "metadata": {
    "scrolled": true
   },
   "outputs": [],
   "source": [
    "df_train = pd.read_csv('./Extracted CSVs/train.csv')\n",
    "df_valid = pd.read_csv('./Extracted CSVs/valid.csv')\n",
    "df_test = pd.read_csv('./Extracted CSVs/test.csv')"
   ]
  },
  {
   "cell_type": "markdown",
   "metadata": {},
   "source": [
    "### Prepare the Datasets\n",
    "Balances the data so that both classes have equal entries, to help balance the classification of our implementations.\n",
    "\n",
    "Seperates the target and data of the classes."
   ]
  },
  {
   "cell_type": "code",
   "execution_count": 7,
   "metadata": {},
   "outputs": [],
   "source": [
    "def equalize_data(class1, class2):\n",
    "    class1_copy = class1\n",
    "    class2_copy = class2  \n",
    "   \n",
    "    if (class1_copy['y_harmonic'].count() < class2_copy['y_harmonic'].count()):\n",
    "        while (class1_copy['y_harmonic'].count()<class2_copy['y_harmonic'].count()): \n",
    "            temp = [class1_copy, class1]\n",
    "            class1_copy = pd.concat(temp)\n",
    "        class1_copy = class1_copy[:class2_copy['y_harmonic'].count()]\n",
    "    else:\n",
    "        while (class2_copy['y_harmonic'].count()<class1_copy['y_harmonic'].count()):\n",
    "            temp = [class2_copy, class2]\n",
    "            class2_copy = pd.concat(temp)\n",
    "        class2_copy = class2_copy[:class1_copy['y_harmonic'].count()]\n",
    "    return (pd.concat([class1_copy, class2_copy]))\n",
    "\n",
    "def count_errors(predictions):\n",
    "    count = 0;\n",
    "    for pred in predictions:\n",
    "        if (pred[0] != pred[1]):\n",
    "            count += 1\n",
    "    return count;\n",
    "\n",
    "# balance the datasets\n",
    "input_df_train = equalize_data(df_train[df_train['target'] == 0], df_train[df_train['target'] == 1])\n",
    "input_df_valid = equalize_data(df_valid[df_valid['target'] == 0], df_valid[df_valid['target'] == 1])\n",
    "input_df_test = equalize_data(df_test[df_test['target'] == 0], df_test[df_test['target'] == 1])\n",
    "\n",
    "# randomize datasets\n",
    "input_df_train = input_df_train.sample(frac=1).reset_index(drop=True)\n",
    "input_df_valid = input_df_valid.sample(frac=1).reset_index(drop=True)\n",
    "input_df_test = input_df_test.sample(frac=1).reset_index(drop=True)\n",
    "\n",
    "# Separate the target and the columns\n",
    "y_train = input_df_train['target']\n",
    "x_train = input_df_train.drop(labels=['target'], axis=1)\n",
    "#Remove the string column\n",
    "x_train = x_train.drop(x_train.columns[0], axis=1)\n",
    "\n",
    "# Separate the target and the columns\n",
    "y_valid = input_df_valid['target']\n",
    "x_valid = input_df_valid.drop(labels=['target'], axis=1)\n",
    "#Remove the string column\n",
    "x_valid = x_valid.drop(x_valid.columns[0], axis=1)\n",
    "\n",
    "# Separate the target and the columns\n",
    "y_test = input_df_test['target']\n",
    "x_test = input_df_test.drop(labels=['target'], axis=1)\n",
    "#Remove the string column\n",
    "x_test = x_test.drop(x_test.columns[0], axis=1)\n",
    "\n",
    "data_length_train = len(x_train)\n",
    "data_length_valid = len(x_valid)\n",
    "data_length_test = len(x_test)"
   ]
  },
  {
   "cell_type": "markdown",
   "metadata": {},
   "source": [
    "### Format Results\n",
    "These functions provide formatting for results. Using Graphs to display error rate and calculate accuracy, precision and recall of each classifier"
   ]
  },
  {
   "cell_type": "code",
   "execution_count": 21,
   "metadata": {},
   "outputs": [],
   "source": [
    "def display_error_graph(conf_matrix_train, conf_matrix_valid, conf_matrix_test, classifier, fig_num):\n",
    "    num_errors_train = conf_matrix_train[0][1] + conf_matrix_train[1][0]\n",
    "    num_errors_valid = conf_matrix_valid[0][1] + conf_matrix_valid[1][0]\n",
    "    num_errors_test  = conf_matrix_test[0][1]  + conf_matrix_test[1][0]\n",
    "    \n",
    "    error_percent_train = round(num_errors_train / data_length_train * 100, 2);\n",
    "    error_percent_valid = round(num_errors_valid / data_length_valid * 100, 2);\n",
    "    error_percent_test = round(num_errors_test / data_length_test * 100, 2)\n",
    "    \n",
    "    plt.figure(fig_num)\n",
    "    plt.title(\"Error in Train, Validation and Test for: \" + classifier)\n",
    "    plt.ylabel(\"Error (%)\")\n",
    "    plt.bar('Train', error_percent_train)\n",
    "    plt.bar('Validation', error_percent_valid)\n",
    "    plt.bar('Test', error_percent_test)\n",
    "    plt.show()\n",
    "    \n",
    "def display_metrics(conf_matrix_train, conf_matrix_valid, conf_matrix_test):\n",
    "    print_accuracy(conf_matrix_train, conf_matrix_valid, conf_matrix_test)\n",
    "    print_precision(conf_matrix_train, conf_matrix_valid, conf_matrix_test)\n",
    "    print_recall(conf_matrix_train, conf_matrix_valid, conf_matrix_test)\n",
    "    \n",
    "\"\"\"\n",
    "Name: print_precision\n",
    "Accuracy = TP + TN / TP+TN+FP+FN\n",
    "\n",
    "[True Positives,False Positives]\n",
    "[False Negatives, True Negatives]\n",
    "\"\"\"\n",
    "def print_accuracy(conf_matrix_train, conf_matrix_valid, conf_matrix_test):\n",
    "    accuracy_percent_train = round((conf_matrix_train[0][0] + conf_matrix_train[1][1]) / data_length_train * 100, 2)\n",
    "    accuracy_percent_valid = round((conf_matrix_valid[0][0] + conf_matrix_valid[1][1]) / data_length_valid * 100, 2)\n",
    "    accuracy_percent_test =  round((conf_matrix_test[0][0]  + conf_matrix_test[1][1])  / data_length_test  * 100, 2)\n",
    "    print('Train set accuracy: ', accuracy_percent_train, '%')\n",
    "    print('Validation set accuracy: ', accuracy_percent_valid, '%')\n",
    "    print('Test set accuracy: ', accuracy_percent_test, '%')\n",
    "\n",
    "\"\"\"\n",
    "Name: print_precision\n",
    "Precision = TP/TP+FP\n",
    "\"\"\"\n",
    "def print_precision(conf_matrix_train, conf_matrix_valid, conf_matrix_test):\n",
    "    recall_train = round(conf_matrix_train[0][0] / (conf_matrix_train[0][0] + conf_matrix_train[0][1]) * 100, 2)\n",
    "    recall_valid = round(conf_matrix_valid[0][0] / (conf_matrix_valid[0][0] + conf_matrix_valid[0][1]) * 100, 2)\n",
    "    recall_test =  round(conf_matrix_test[0][0]  / (conf_matrix_test[0][0]  + conf_matrix_test[0][1])  * 100, 2)\n",
    "    print('Train set recall: ', recall_train, '%')\n",
    "    print('Validation set recall: ', recall_valid, '%')\n",
    "    print('Test set recall: ', recall_test, '%')\n",
    "\n",
    "\"\"\"\n",
    "Name: print_recall\n",
    "Recall = TP/ TP+FN \n",
    "\"\"\"\n",
    "def print_recall(conf_matrix_train, conf_matrix_valid, conf_matrix_test):\n",
    "    recall_train = round(conf_matrix_train[0][0] / (conf_matrix_train[0][0] + conf_matrix_train[1][0]) * 100, 2)\n",
    "    recall_valid = round(conf_matrix_valid[0][0] / (conf_matrix_valid[0][0] + conf_matrix_valid[1][0]) * 100, 2)\n",
    "    recall_test =  round(conf_matrix_test[0][0]  / (conf_matrix_test[0][0]  + conf_matrix_test[1][0])  * 100, 2)\n",
    "    print('Train set recall: ', recall_train, '%')\n",
    "    print('Validation set recall: ', recall_valid, '%')\n",
    "    print('Test set recall: ', recall_test, '%')"
   ]
  },
  {
   "cell_type": "markdown",
   "metadata": {},
   "source": [
    "### Binary Decision Tree\n",
    "The first algorithm we used was a Binary Decision Tree. The tree was created and fit to the data using a Sci-kit learn decision tree. Sci-kit learn uses an optimised version of the Classification and Regression Trees (CART) algorithm to construct its decision trees. The CART algorithm “constructs binary trees using the feature and threshold that yield the largest information gain at each node.”\n",
    "\n",
    "Reference: https://scikit-learn.org/stable/modules/tree.html"
   ]
  },
  {
   "cell_type": "code",
   "execution_count": 6,
   "metadata": {},
   "outputs": [],
   "source": [
    "def simple_decision_tree(max_depth):\n",
    "    # hyperparameters\n",
    "    # max_depth of 4 seems to work well for training with validation set\n",
    "\n",
    "    # create a scikit-learn tree based on validation set\n",
    "    clf = tree.DecisionTreeClassifier(max_depth=max_depth)\n",
    "    clf = clf.fit(x_valid, y_valid)\n",
    "\n",
    "    # make predictions\n",
    "    predictions_test = np.vstack((y_test, clf.predict(x_test).tolist())).T\n",
    "    predictions_valid = np.vstack((y_valid, clf.predict(x_valid).tolist())).T\n",
    "\n",
    "    num_errors_test = count_errors(predictions_test)\n",
    "    num_errors_valid = count_errors(predictions_valid)\n",
    "\n",
    "    # calculating valid and test error to two decimal places\n",
    "    error_percent_valid = round(num_errors_valid / data_length_valid * 100, 2);\n",
    "    error_percent_test = round(num_errors_test / data_length_test * 100, 2)\n",
    "\n",
    "    errorLabels = ('Validation Set Error', 'Test Set Error')\n",
    "    plt.figure(0)\n",
    "    plt.title(\"Decision Tree: Error in Validation vs Test\")\n",
    "    plt.ylabel(\"Error (%)\")\n",
    "    plt.bar('Valid', error_percent_valid)\n",
    "    plt.bar('Test', error_percent_test)\n",
    "\n",
    "    print('Validation set error percentage: ', error_percent_valid)\n",
    "    print('Test set error percentage: ', error_percent_test)\n"
   ]
  },
  {
   "cell_type": "code",
   "execution_count": 19,
   "metadata": {},
   "outputs": [
    {
     "name": "stdout",
     "output_type": "stream",
     "text": [
      "Validation set error percentage:  0.0\n",
      "Test set error percentage:  1.31\n"
     ]
    },
    {
     "data": {
      "image/png": "[encoded data removed]",
      "text/plain": [
       "<Figure size 432x288 with 1 Axes>"
      ]
     },
     "metadata": {
      "needs_background": "light"
     },
     "output_type": "display_data"
    }
   ],
   "source": [
    "# fit a tree to our data and plot error\n",
    "simple_decision_tree(4)"
   ]
  },
  {
   "cell_type": "markdown",
   "metadata": {},
   "source": [
    "### Random Forest\n",
    "The forest was created and fit to the data using a Sci-kit learn random forest. A random forest is a meta estimator that fits a number of decision tree classifiers on various sub-samples of the dataset and uses averaging to improve the predictive accuracy and control over-fitting. \n",
    "\n",
    "Reference: https://scikit-learn.org/stable/modules/ensemble.html#forest"
   ]
  },
  {
   "cell_type": "code",
   "execution_count": 20,
   "metadata": {},
   "outputs": [],
   "source": [
    "# random forest implementation\n",
    "def random_forest(max_depth):\n",
    "    # hyperparameters\n",
    "    # max_depth of 4 or 5 seems to work well for training with validation set\n",
    "\n",
    "    # create a scikit-learn random forest based on validation set\n",
    "    clf = RandomForestClassifier(max_depth=max_depth, n_estimators=100, max_features=\"sqrt\", min_samples_split=2)\n",
    "    clf = clf.fit(x_valid, y_valid)\n",
    "\n",
    "    # make predictions\n",
    "    predictions_test = np.vstack((y_test, clf.predict(x_test).tolist())).T\n",
    "    predictions_valid = np.vstack((y_valid, clf.predict(x_valid).tolist())).T\n",
    "\n",
    "    num_errors_test = count_errors(predictions_test)\n",
    "    num_errors_valid = count_errors(predictions_valid)\n",
    "\n",
    "    # calculating valid and test error to two decimal places\n",
    "    error_percent_valid = round(num_errors_valid / data_length_valid * 100, 2);\n",
    "    error_percent_test = round(num_errors_test / data_length_test * 100, 2)\n",
    "\n",
    "    errorLabels = ('Validation Set Error', 'Test Set Error')\n",
    "    plt.figure(0)\n",
    "    plt.title(\"Random Forest: Error in Validation vs Test\")\n",
    "    plt.ylabel(\"Error (%)\")\n",
    "    plt.bar('Valid', error_percent_valid)\n",
    "    plt.bar('Test', error_percent_test)\n",
    "\n",
    "    print('Validation set error percentage: ', error_percent_valid)\n",
    "    print('Test set error percentage: ', error_percent_test)"
   ]
  },
  {
   "cell_type": "code",
   "execution_count": 21,
   "metadata": {},
   "outputs": [
    {
     "name": "stdout",
     "output_type": "stream",
     "text": [
      "Validation set error percentage:  0.0\n",
      "Test set error percentage:  0.33\n"
     ]
    },
    {
     "data": {
      "image/png": "[encoded data removed]",
      "text/plain": [
       "<Figure size 432x288 with 1 Axes>"
      ]
     },
     "metadata": {
      "needs_background": "light"
     },
     "output_type": "display_data"
    }
   ],
   "source": [
    "# fit a tree to our data and plot error\n",
    "random_forest(5)"
   ]
  },
  {
   "cell_type": "markdown",
   "metadata": {},
   "source": [
    "### AdaBoost\n",
    "The second algorithm used was AdaBoost which was implemented with Sci-kit learn. Sci-kit learn allows you to define a base estimator which defaults to a DecisionTreeClassifier with a max depth of 1. An estimator is a simple model that can give a classification. Sci-kit learn implements the AdaBoost algorithm to apply heavier weights to specific training estimators with the goal of correcting wrong predictions.\n",
    "\n",
    "Takes max number of estimators to use, it then uses the train and validation sets to tune the hypeparameters and pick the best outcome. \n",
    "\n",
    "Reference: https://scikit-learn.org/stable/modules/ensemble.html#adaboost  "
   ]
  },
  {
   "cell_type": "code",
   "execution_count": 19,
   "metadata": {},
   "outputs": [],
   "source": [
    "def ada_boost(max_estimators):\n",
    "    train_results = []\n",
    "    valid_results = []\n",
    "    #Tune the hyperparameter estimators\n",
    "    for estimators in range(1,  max_estimators):\n",
    "        classifier = AdaBoostClassifier(\n",
    "            DecisionTreeClassifier(max_depth=1),\n",
    "            n_estimators=estimators\n",
    "        )\n",
    "        classifier.fit(x_train, y_train)\n",
    "        predictions_train = classifier.predict(x_train)\n",
    "        results_train = confusion_matrix(y_train, predictions_train)\n",
    "        num_errors_train = results_train[0][1] + results_train[1][0]\n",
    "        train_results.append(num_errors_train)\n",
    "        predictions_valid = classifier.predict(x_valid)\n",
    "        results_valid = confusion_matrix(y_valid, predictions_valid)\n",
    "        num_errors_valid = results_valid[0][1] + results_valid[1][0]\n",
    "        valid_results.append(num_errors_valid)\n",
    "        \n",
    "    estimator_indices = np.arange(1,max_estimators)\n",
    "    plt.figure(0)\n",
    "    plt.plot(estimator_indices, train_results, color='r' , label='Train Error')\n",
    "    plt.plot(estimator_indices, valid_results, color='b' , label='Valid Error')\n",
    "    plt.legend()\n",
    "    plt.show()\n",
    "    \n",
    "    #Combine the error for each set\n",
    "    error_results = np.arange(1,max_estimators)\n",
    "    for i in range(0, len(train_results)):\n",
    "        error_results[i] = train_results[i] + valid_results[i]\n",
    "    print(error_results)\n",
    "    \n",
    "    best_estimator = np.argmin(error_results) + 1\n",
    "    print('The Best Estimator found is: ', best_estimator)\n",
    "    \n",
    "    classifier = AdaBoostClassifier(\n",
    "            DecisionTreeClassifier(max_depth=1),\n",
    "            n_estimators=best_estimator\n",
    "    )\n",
    "    classifier.fit(x_train, y_train)\n",
    "    \n",
    "    predictions_train = classifier.predict(x_train)\n",
    "    results_train = confusion_matrix(y_train, predictions_train)\n",
    "    \n",
    "    predictions_valid = classifier.predict(x_valid)\n",
    "    results_valid = confusion_matrix(y_valid, predictions_valid)\n",
    "    \n",
    "    predictions_test = classifier.predict(x_test)\n",
    "    results_test = confusion_matrix(y_test, predictions_test)\n",
    "    display_error_graph(results_train, results_valid, results_test, \"AdaBoost\", 2)\n",
    "    display_metrics(results_train, results_valid, results_test)"
   ]
  },
  {
   "cell_type": "code",
   "execution_count": 22,
   "metadata": {},
   "outputs": [
    {
     "data": {
      "image/png": "[encoded data removed]",
      "text/plain": [
       "<Figure size 432x288 with 1 Axes>"
      ]
     },
     "metadata": {
      "needs_background": "light"
     },
     "output_type": "display_data"
    },
    {
     "name": "stdout",
     "output_type": "stream",
     "text": [
      "[6304 3668 3130 2814]\n",
      "The Best Estimator found is:  4\n"
     ]
    },
    {
     "data": {
      "image/png": "[encoded data removed]",
      "text/plain": [
       "<Figure size 432x288 with 1 Axes>"
      ]
     },
     "metadata": {
      "needs_background": "light"
     },
     "output_type": "display_data"
    },
    {
     "name": "stdout",
     "output_type": "stream",
     "text": [
      "Train set accuracy:  92.92 %\n",
      "Validation set accuracy:  95.7 %\n",
      "Test set accuracy:  94.77 %\n",
      "Train set recall:  89.69 %\n",
      "Validation set recall:  91.4 %\n",
      "Test set recall:  90.2 %\n",
      "Train set recall:  95.89 %\n",
      "Validation set recall:  100.0 %\n",
      "Test set recall:  99.28 %\n"
     ]
    }
   ],
   "source": [
    "ada_boost(5)"
   ]
  },
  {
   "cell_type": "markdown",
   "metadata": {},
   "source": [
    "### KNN\n",
    "K Nearest Neighbor (KNN) Classifier. The classifier was created using the Sci-kit learn KNeighborsClassifier function. This function uses the minkowski distance to compute the distance between points. After some initial tuning of the hyperparameter K, we found that the best value to use for our dataset was K = 27.\n"
   ]
  },
  {
   "cell_type": "code",
   "execution_count": 27,
   "metadata": {},
   "outputs": [],
   "source": [
    "def KNN(k):\n",
    "    KNN_Classifier = KNeighborsClassifier(n_neighbors = k)\n",
    "    KNN_Classifier.fit(x_train, y_train)\n",
    "    \n",
    "    predictions_train = np.vstack((y_train, KNN_Classifier.predict(x_train).tolist())).T\n",
    "    length_predictions_train = len(predictions_train)\n",
    "    num_errors_train = count_errors(predictions_train)\n",
    "    train_error = round(num_errors_train / length_predictions_train * 100, 2);\n",
    "    \n",
    "    predictions_valid = np.vstack((y_valid, KNN_Classifier.predict(x_valid).tolist())).T\n",
    "    length_predictions_valid = len(predictions_valid)\n",
    "    num_errors_valid = count_errors(predictions_valid)\n",
    "    valid_error = round(num_errors_valid / length_predictions_valid * 100, 2);\n",
    "    \n",
    "    predictions_test = np.vstack((y_test, KNN_Classifier.predict(x_test).tolist())).T\n",
    "    length_predictions_test = len(predictions_test)\n",
    "    num_errors_test = count_errors(predictions_test)\n",
    "    test_error = round(num_errors_test / length_predictions_test * 100, 2);\n",
    "    \n",
    "    errorLabels = ('Train Set Error', 'Valid Set Error', 'Test Set Error')\n",
    "    plt.figure(0)\n",
    "    plt.title(\"Error in Train vs Valid vs Test\")\n",
    "    plt.ylabel(\"Error (%)\")\n",
    "    plt.bar('Train', train_error)\n",
    "    plt.bar('Valid', valid_error)\n",
    "    plt.bar('Test', test_error)\n",
    "\n",
    "    print('Train set error percentage: ', train_error)\n",
    "    print('Valid set error percentage: ', valid_error)\n",
    "    print('Test set error percentage: ', test_error)\n",
    "    "
   ]
  },
  {
   "cell_type": "code",
   "execution_count": 28,
   "metadata": {},
   "outputs": [
    {
     "name": "stdout",
     "output_type": "stream",
     "text": [
      "Train set error percentage:  5.52\n",
      "Valid set error percentage:  5.41\n",
      "Test set error percentage:  5.56\n"
     ]
    },
    {
     "data": {
      "image/png": "[encoded data removed]",
      "text/plain": [
       "<Figure size 432x288 with 1 Axes>"
      ]
     },
     "metadata": {
      "needs_background": "light"
     },
     "output_type": "display_data"
    }
   ],
   "source": [
    "KNN(27)"
   ]
  },
  {
   "cell_type": "markdown",
   "metadata": {},
   "source": [
    "# Support Vector Machines\n",
    "Our final prediction model - Support Vector Machines, implemented with Scikit-Learn. This Support Vector Machine (SVM) uses the rbf kernel, with a gamma of 0.00001 and c of 100. This configuration was chosen after testing 25 combonations of gamma and c, following logarithmic increments of each. The SVM is very sensitive to the gamma parameter. A smaller gamma than used would fail to capture the shape, being too constrictive. In SVMs, smaller values of c lead to simpler decision functions. Larger values are more complex. We found 100 did not sacrifice accuracy for efficiency."
   ]
  },
  {
   "cell_type": "code",
   "execution_count": 7,
   "metadata": {},
   "outputs": [],
   "source": [
    "def runSVM(k, c, g):   \n",
    "    x_train_svm=x_train\n",
    "    x_test_svm = x_test\n",
    "    x_valid_svm = x_valid\n",
    "\n",
    "    x_train_svm = x_train_svm.to_numpy()\n",
    "    x_test_svm = x_test_svm.to_numpy()\n",
    "    x_valid_svm= x_valid_svm.to_numpy()\n",
    "\n",
    "    y_train_svm = y_train\n",
    "    y_train_svm = y_train_svm.values\n",
    "    \n",
    "    clf = svm.SVC(kernel=k, C=c, gamma=g)\n",
    "    clf.fit(x_train, y_train)\n",
    "\n",
    "    prediction_train = clf.predict(x_train)\n",
    "    error_train = 100 - 100*metrics.accuracy_score(y_train, prediction_train)\n",
    "    \n",
    "    prediction_valid = clf.predict(x_valid)\n",
    "    error_valid = 100 - 100*metrics.accuracy_score(y_valid, prediction_valid)\n",
    "    \n",
    "    prediction_test = clf.predict(x_test)\n",
    "    error_test = 100 - 100*metrics.accuracy_score(y_test, prediction_test)\n",
    "\n",
    "    print(\"Train set error percentage: \", error_train)\n",
    "    print(\"Validation set error percentage: \", error_valid)\n",
    "    print(\"Test set error percentage: \", error_test)\n",
    "    \n",
    "    errorLabels = ('Train Set Error', 'Validation Set Error', 'Test Set Error')\n",
    "    plt.figure(0)   \n",
    "    plt.title(\"Error in Train, Validation and Test\")\n",
    "    plt.ylabel(\"Error (%)\")\n",
    "    plt.bar('Train', error_train)\n",
    "    plt.bar('Validation', error_valid)\n",
    "    plt.bar('Test', error_test)\n",
    "    plt.show()\n"
   ]
  },
  {
   "cell_type": "code",
   "execution_count": 10,
   "metadata": {},
   "outputs": [
    {
     "name": "stdout",
     "output_type": "stream",
     "text": [
      "Train set error percentage:  0.07220216606498298\n",
      "Validation set error percentage:  0.12285012285012442\n",
      "Test set error percentage:  0.1633986928104605\n"
     ]
    },
    {
     "data": {
      "image/png": "[encoded data removed]",
      "text/plain": [
       "<Figure size 432x288 with 1 Axes>"
      ]
     },
     "metadata": {
      "needs_background": "light"
     },
     "output_type": "display_data"
    }
   ],
   "source": [
    "runSVM('rbf', 100, 0.00001)"
   ]
  },
  {
   "cell_type": "code",
   "execution_count": null,
   "metadata": {},
   "outputs": [],
   "source": []
  }
 ],
 "metadata": {
  "kernelspec": {
   "display_name": "Python 3",
   "language": "python",
   "name": "python3"
  },
  "language_info": {
   "codemirror_mode": {
    "name": "ipython",
    "version": 3
   },
   "file_extension": ".py",
   "mimetype": "text/x-python",
   "name": "python",
   "nbconvert_exporter": "python",
   "pygments_lexer": "ipython3",
   "version": "3.7.6"
  }
 },
 "nbformat": 4,
 "nbformat_minor": 2
}
