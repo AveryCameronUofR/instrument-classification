{
 "cells": [
  {
   "cell_type": "markdown",
   "metadata": {},
   "source": [
    "## Prediction Models\n",
    "Predict the instrument based on the input csv files from build dataset.\n",
    "Uses various sklearn classification models and plots error%"
   ]
  },
  {
   "cell_type": "code",
   "execution_count": 56,
   "metadata": {},
   "outputs": [],
   "source": [
    "import numpy as np\n",
    "import matplotlib.pyplot as plt\n",
    "import pandas as pd\n",
    "from sklearn import tree\n",
    "from sklearn.ensemble import AdaBoostClassifier\n",
    "from sklearn.tree import DecisionTreeClassifier\n",
    "from sklearn.preprocessing import LabelEncoder\n",
    "from sklearn.metrics import confusion_matrix\n",
    "from sklearn.ensemble import RandomForestClassifier"
   ]
  },
  {
   "cell_type": "markdown",
   "metadata": {},
   "source": [
    "### Load the Datasets\n",
    "Load the data from the created csv files."
   ]
  },
  {
   "cell_type": "code",
   "execution_count": 247,
   "metadata": {
    "scrolled": true
   },
   "outputs": [],
   "source": [
    "df_train = pd.read_csv('./Extracted CSVs/train.csv')\n",
    "df_valid = pd.read_csv('./Extracted CSVs/valid.csv')\n",
    "df_test = pd.read_csv('./Extracted CSVs/test.csv')"
   ]
  },
  {
   "cell_type": "markdown",
   "metadata": {},
   "source": [
    "### Prepare the Datasets\n",
    "Balances the data so that both classes have equal entries, to help balance the classification of our implementations.\n",
    "\n",
    "Seperates the target and data of the classes."
   ]
  },
  {
   "cell_type": "code",
   "execution_count": 249,
   "metadata": {},
   "outputs": [],
   "source": [
    "def equalize_data(class1, class2):\n",
    "    class1_copy = class1\n",
    "    class2_copy = class2  \n",
    "   \n",
    "    if (class1_copy['y_harmonic'].count() < class2_copy['y_harmonic'].count()):\n",
    "        while (class1_copy['y_harmonic'].count()<class2_copy['y_harmonic'].count()): \n",
    "            temp = [class1_copy, class1]\n",
    "            class1_copy = pd.concat(temp)\n",
    "        class1_copy = class1_copy[:class2_copy['y_harmonic'].count()]\n",
    "    else:\n",
    "        while (class2_copy['y_harmonic'].count()<class1_copy['y_harmonic'].count()):\n",
    "            temp = [class2_copy, class2]\n",
    "            class2_copy = pd.concat(temp)\n",
    "        class2_copy = class2_copy[:class1_copy['y_harmonic'].count()]\n",
    "    return (pd.concat([class1_copy, class2_copy]))\n",
    "\n",
    "def count_errors(predictions):\n",
    "    count = 0;\n",
    "    for pred in predictions:\n",
    "        if (pred[0] != pred[1]):\n",
    "            count += 1\n",
    "    return count;\n",
    "\n",
    "# balance the datasets\n",
    "input_df_train = equalize_data(df_train[df_train['target'] == 0], df_train[df_train['target'] == 1])\n",
    "input_df_valid = equalize_data(df_valid[df_valid['target'] == 0], df_valid[df_valid['target'] == 1])\n",
    "input_df_test = equalize_data(df_test[df_test['target'] == 0], df_test[df_test['target'] == 1])\n",
    "\n",
    "# randomize datasets\n",
    "input_df_train = input_df_train.sample(frac=1).reset_index(drop=True)\n",
    "input_df_valid = input_df_valid.sample(frac=1).reset_index(drop=True)\n",
    "input_df_test = input_df_test.sample(frac=1).reset_index(drop=True)\n",
    "\n",
    "# Separate the target and the columns\n",
    "y_train = input_df_train['target']\n",
    "x_train = input_df_train.drop(labels=['target'], axis=1)\n",
    "#Remove the string column\n",
    "x_train = x_train.drop(x_train.columns[0], axis=1)\n",
    "\n",
    "# Separate the target and the columns\n",
    "y_valid = input_df_valid['target']\n",
    "x_valid = input_df_valid.drop(labels=['target'], axis=1)\n",
    "#Remove the string column\n",
    "x_valid = x_valid.drop(x_valid.columns[0], axis=1)\n",
    "\n",
    "# Separate the target and the columns\n",
    "y_test = input_df_test['target']\n",
    "x_test = input_df_test.drop(labels=['target'], axis=1)\n",
    "#Remove the string column\n",
    "x_test = x_test.drop(x_test.columns[0], axis=1)\n",
    "\n",
    "data_length_train = len(x_train)\n",
    "data_length_valid = len(x_valid)\n",
    "data_length_test = len(x_test)"
   ]
  },
  {
   "cell_type": "markdown",
   "metadata": {},
   "source": [
    "### Binary Decision Tree\n",
    "The first algorithm we used was a Binary Decision Tree. The tree was created and fit to the data using a Sci-kit learn decision tree. Sci-kit learn uses an optimised version of the Classification and Regression Trees (CART) algorithm to construct its decision trees. The CART algorithm “constructs binary trees using the feature and threshold that yield the largest information gain at each node.”\n",
    "\n",
    "Reference: https://scikit-learn.org/stable/modules/tree.html"
   ]
  },
  {
   "cell_type": "code",
   "execution_count": 250,
   "metadata": {},
   "outputs": [],
   "source": [
    "def simple_decision_tree(max_depth):\n",
    "    # hyperparameters\n",
    "    # max_depth of 4 seems to work well for training with validation set\n",
    "\n",
    "    # create a scikit-learn tree based on validation set\n",
    "    clf = tree.DecisionTreeClassifier(max_depth=max_depth)\n",
    "    clf = clf.fit(x_valid, y_valid)\n",
    "\n",
    "    # make predictions\n",
    "    predictions_test = np.vstack((y_test, clf.predict(x_test).tolist())).T\n",
    "    predictions_valid = np.vstack((y_valid, clf.predict(x_valid).tolist())).T\n",
    "\n",
    "    num_errors_test = count_errors(predictions_test)\n",
    "    num_errors_valid = count_errors(predictions_valid)\n",
    "\n",
    "    # calculating valid and test error to two decimal places\n",
    "    error_percent_valid = round(num_errors_valid / data_length_valid * 100, 2);\n",
    "    error_percent_test = round(num_errors_test / data_length_test * 100, 2)\n",
    "\n",
    "    errorLabels = ('Validation Set Error', 'Test Set Error')\n",
    "    plt.figure(0)\n",
    "    plt.title(\"Decision Tree: Error in Validation vs Test\")\n",
    "    plt.ylabel(\"Error (%)\")\n",
    "    plt.bar('Valid', error_percent_valid)\n",
    "    plt.bar('Test', error_percent_test)\n",
    "\n",
    "    print('Validation set error percentage: ', error_percent_valid)\n",
    "    print('Test set error percentage: ', error_percent_test)\n"
   ]
  },
  {
   "cell_type": "code",
   "execution_count": 251,
   "metadata": {},
   "outputs": [
    {
     "name": "stdout",
     "output_type": "stream",
     "text": [
      "Validation set error percentage:  0.0\n",
      "Test set error percentage:  1.31\n"
     ]
    },
    {
     "data": {
      "image/png": "[encoded data removed]",
      "text/plain": [
       "<Figure size 432x288 with 1 Axes>"
      ]
     },
     "metadata": {
      "needs_background": "light"
     },
     "output_type": "display_data"
    }
   ],
   "source": [
    "# fit a tree to our data and plot error\n",
    "simple_decision_tree(4)"
   ]
  },
  {
   "cell_type": "markdown",
   "metadata": {},
   "source": [
    "### Random Forest\n",
    "The forest was created and fit to the data using a Sci-kit learn random forest. A random forest is a meta estimator that fits a number of decision tree classifiers on various sub-samples of the dataset and uses averaging to improve the predictive accuracy and control over-fitting. \n",
    "\n",
    "Reference: https://scikit-learn.org/stable/modules/ensemble.html#forest"
   ]
  },
  {
   "cell_type": "code",
   "execution_count": 252,
   "metadata": {},
   "outputs": [],
   "source": [
    "# random forest implementation\n",
    "def random_forest(max_depth):\n",
    "    # hyperparameters\n",
    "    # max_depth of 4 or 5 seems to work well for training with validation set\n",
    "\n",
    "    # create a scikit-learn random forest based on validation set\n",
    "    clf = RandomForestClassifier(max_depth=max_depth, n_estimators=100, max_features=\"sqrt\", min_samples_split=2)\n",
    "    clf = clf.fit(x_valid, y_valid)\n",
    "\n",
    "    # make predictions\n",
    "    predictions_test = np.vstack((y_test, clf.predict(x_test).tolist())).T\n",
    "    predictions_valid = np.vstack((y_valid, clf.predict(x_valid).tolist())).T\n",
    "\n",
    "    num_errors_test = count_errors(predictions_test)\n",
    "    num_errors_valid = count_errors(predictions_valid)\n",
    "\n",
    "    # calculating valid and test error to two decimal places\n",
    "    error_percent_valid = round(num_errors_valid / data_length_valid * 100, 2);\n",
    "    error_percent_test = round(num_errors_test / data_length_test * 100, 2)\n",
    "\n",
    "    errorLabels = ('Validation Set Error', 'Test Set Error')\n",
    "    plt.figure(0)\n",
    "    plt.title(\"Random Forest: Error in Validation vs Test\")\n",
    "    plt.ylabel(\"Error (%)\")\n",
    "    plt.bar('Valid', error_percent_valid)\n",
    "    plt.bar('Test', error_percent_test)\n",
    "\n",
    "    print('Validation set error percentage: ', error_percent_valid)\n",
    "    print('Test set error percentage: ', error_percent_test)"
   ]
  },
  {
   "cell_type": "code",
   "execution_count": 253,
   "metadata": {},
   "outputs": [
    {
     "name": "stdout",
     "output_type": "stream",
     "text": [
      "Validation set error percentage:  0.0\n",
      "Test set error percentage:  0.49\n"
     ]
    },
    {
     "data": {
      "image/png": "[encoded data removed]",
      "text/plain": [
       "<Figure size 432x288 with 1 Axes>"
      ]
     },
     "metadata": {
      "needs_background": "light"
     },
     "output_type": "display_data"
    }
   ],
   "source": [
    "# fit a tree to our data and plot error\n",
    "random_forest(5)"
   ]
  },
  {
   "cell_type": "markdown",
   "metadata": {},
   "source": [
    "### AdaBoost\n",
    "The second algorithm used was AdaBoost which was implemented with Sci-kit learn. Sci-kit learn allows you to define a base estimator which defaults to a DecisionTreeClassifier with a max depth of 1. An estimator is a simple model that can give a classification. Sci-kit learn implements the AdaBoost algorithm to apply heavier weights to specific training estimators with the goal of correcting wrong predictions.\n",
    "\n",
    "Reference: https://scikit-learn.org/stable/modules/ensemble.html#adaboost  "
   ]
  },
  {
   "cell_type": "code",
   "execution_count": 256,
   "metadata": {},
   "outputs": [],
   "source": [
    "def ada_boost(estimators):\n",
    "    classifier = AdaBoostClassifier(\n",
    "        DecisionTreeClassifier(max_depth=1),\n",
    "        n_estimators=estimators\n",
    "    )\n",
    "    classifier.fit(x_train, y_train)\n",
    "    predictions_train = classifier.predict(x_train)\n",
    "    results_train = confusion_matrix(y_train, predictions_train)\n",
    "    predictions_test = classifier.predict(x_test)\n",
    "    results_test = confusion_matrix(y_test, predictions_test)\n",
    "    num_errors_train = results_train[0][1] + results_train[1][0]\n",
    "    num_errors_test = results_test[0][1] + results_test[1][0]\n",
    "    \n",
    "    # calculating valid and test error to two decimal places\n",
    "    data_length_train = len(predictions_train)\n",
    "    data_length_test = len(predictions_test)\n",
    "    error_percent_train = round(num_errors_train / data_length_train * 100, 2);\n",
    "    error_percent_test = round(num_errors_test / data_length_test * 100, 2)\n",
    "\n",
    "    errorLabels = ('Train Set Error', 'Test Set Error')\n",
    "    plt.figure(0)\n",
    "    plt.title(\"Error in Train vs Test\")\n",
    "    plt.ylabel(\"Error (%)\")\n",
    "    plt.bar('Train', error_percent_train)\n",
    "    plt.bar('Test', error_percent_test)\n",
    "\n",
    "    print('Train set error percentage: ', error_percent_train)\n",
    "    print('Test set error percentage: ', error_percent_test)"
   ]
  },
  {
   "cell_type": "code",
   "execution_count": 257,
   "metadata": {},
   "outputs": [
    {
     "name": "stdout",
     "output_type": "stream",
     "text": [
      "Train set error percentage:  0.65\n",
      "Test set error percentage:  1.31\n"
     ]
    },
    {
     "data": {
      "image/png": "[encoded data removed]",
      "text/plain": [
       "<Figure size 432x288 with 1 Axes>"
      ]
     },
     "metadata": {
      "needs_background": "light"
     },
     "output_type": "display_data"
    }
   ],
   "source": [
    "ada_boost(50)"
   ]
  },
  {
   "cell_type": "code",
   "execution_count": null,
   "metadata": {},
   "outputs": [],
   "source": []
  }
 ],
 "metadata": {
  "kernelspec": {
   "display_name": "Python 3",
   "language": "python",
   "name": "python3"
  },
  "language_info": {
   "codemirror_mode": {
    "name": "ipython",
    "version": 3
   },
   "file_extension": ".py",
   "mimetype": "text/x-python",
   "name": "python",
   "nbconvert_exporter": "python",
   "pygments_lexer": "ipython3",
   "version": "3.7.6"
  }
 },
 "nbformat": 4,
 "nbformat_minor": 2
}
