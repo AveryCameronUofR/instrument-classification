{
 "cells": [
  {
   "cell_type": "code",
   "execution_count": 1,
   "metadata": {},
   "outputs": [
    {
     "name": "stdout",
     "output_type": "stream",
     "text": [
      "functions declared\n"
     ]
    }
   ],
   "source": [
    "import librosa\n",
    "import librosa.display\n",
    "import numpy as np\n",
    "import matplotlib.pyplot as plt\n",
    "import pandas as pd\n",
    "from tqdm import tqdm_notebook\n",
    "from sklearn import tree\n",
    "from sklearn.ensemble import AdaBoostClassifier\n",
    "from sklearn.tree import DecisionTreeClassifier\n",
    "from sklearn.ensemble import RandomForestClassifier\n",
    "from sklearn.preprocessing import LabelEncoder\n",
    "from sklearn.metrics import confusion_matrix\n",
    "from sklearn.neighbors import KNeighborsClassifier\n",
    "from sklearn import svm\n",
    "from sklearn import metrics\n",
    "\"\"\"\n",
    "Name: equalize_data\n",
    "Input: \n",
    "    class1: Data in class1\n",
    "    class2: Data in class2\n",
    "Returns: \n",
    "    equalized data from training\n",
    "\"\"\"\n",
    "def equalize_data(class1, class2):\n",
    "    class1_copy = class1\n",
    "    class2_copy = class2  \n",
    "   \n",
    "    if (class1_copy['y_harmonic'].count() < class2_copy['y_harmonic'].count()):\n",
    "        while (class1_copy['y_harmonic'].count()<class2_copy['y_harmonic'].count()): \n",
    "            temp = [class1_copy, class1]\n",
    "            class1_copy = pd.concat(temp)\n",
    "        class1_copy = class1_copy[:class2_copy['y_harmonic'].count()]\n",
    "    else:\n",
    "        while (class2_copy['y_harmonic'].count()<class1_copy['y_harmonic'].count()):\n",
    "            temp = [class2_copy, class2]\n",
    "            class2_copy = pd.concat(temp)\n",
    "        class2_copy = class2_copy[:class1_copy['y_harmonic'].count()]\n",
    "    return (pd.concat([class1_copy, class2_copy]))\n",
    "\n",
    "def count_errors(predictions):\n",
    "    count = 0;\n",
    "    for pred in predictions:\n",
    "        if (pred[0] != pred[1]):\n",
    "            count += 1\n",
    "    return count;\n",
    "\n",
    "print('functions declared')"
   ]
  },
  {
   "cell_type": "code",
   "execution_count": 2,
   "metadata": {},
   "outputs": [],
   "source": [
    "df_train = pd.read_csv('./Extracted CSVs/RACK_nsynth-valid.csv')\n",
    "df_test = pd.read_csv('./Extracted CSVs/RACK_rack.csv')"
   ]
  },
  {
   "cell_type": "code",
   "execution_count": 3,
   "metadata": {},
   "outputs": [],
   "source": [
    "# balance the datasets\n",
    "input_df_train = equalize_data(df_train[df_train['target'] == 0], df_train[df_train['target'] == 1])\n",
    "input_df_test = equalize_data(df_test[df_test['target'] == 0], df_test[df_test['target'] == 1])\n",
    "\n",
    "# randomize datasets\n",
    "input_df_train = input_df_train.sample(frac=1).reset_index(drop=True)\n",
    "input_df_test = input_df_test.sample(frac=1).reset_index(drop=True)\n",
    "# Separate the target and the columns\n",
    "y_train = input_df_train['target']\n",
    "x_train = input_df_train.drop(labels=['target'], axis=1)\n",
    "#Remove the string column\n",
    "x_train = x_train.drop(x_train.columns[0], axis=1)\n",
    "\n",
    "# Separate the target and the columns\n",
    "y_test = input_df_test['target']\n",
    "x_test = input_df_test.drop(labels=['target'], axis=1)\n",
    "#Remove the string column\n",
    "x_test = x_test.drop(x_test.columns[0], axis=1)\n",
    "\n",
    "data_length_train = len(x_train)\n",
    "data_length_test = len(x_test)\n"
   ]
  },
  {
   "cell_type": "code",
   "execution_count": 57,
   "metadata": {},
   "outputs": [],
   "source": [
    "def simple_decision_tree(max_depth):\n",
    "    # hyperparameters\n",
    "    # max_depth of 4 seems to work well for training with validation set\n",
    "\n",
    "    # create a scikit-learn tree based on validation set\n",
    "    clf = tree.DecisionTreeClassifier(max_depth=max_depth)\n",
    "    clf = clf.fit(x_train, y_train)\n",
    "\n",
    "    # make predictions\n",
    "    predictions_test = np.vstack((y_test, clf.predict(x_test).tolist())).T\n",
    "    predictions_train = np.vstack((y_train, clf.predict(x_train).tolist())).T\n",
    "\n",
    "    num_errors_train = count_errors(predictions_train)\n",
    "    num_errors_test = count_errors(predictions_test)\n",
    "\n",
    "    # calculating train and test error to two decimal places\n",
    "    error_percent_train = round(num_errors_train / data_length_train * 100, 2);\n",
    "    error_percent_test = round(num_errors_test / data_length_test * 100, 2)\n",
    "\n",
    "    errorLabels = ('Train Set Error', 'Test Set Error')\n",
    "    plt.figure(0)\n",
    "    plt.title(\"Error in Train vs Test\")\n",
    "    plt.ylabel(\"Error (%)\")\n",
    "    plt.bar('Train', error_percent_train)\n",
    "    plt.bar('Test', error_percent_test)\n",
    "\n",
    "    print('Validation set error percentage: ', error_percent_train)\n",
    "    print('Test set error percentage: ', error_percent_test)\n"
   ]
  },
  {
   "cell_type": "code",
   "execution_count": 58,
   "metadata": {},
   "outputs": [
    {
     "name": "stdout",
     "output_type": "stream",
     "text": [
      "Validation set error percentage:  0.31\n",
      "Test set error percentage:  26.85\n"
     ]
    },
    {
     "data": {
      "image/png": "[encoded data removed]",
      "text/plain": [
       "<Figure size 432x288 with 1 Axes>"
      ]
     },
     "metadata": {
      "needs_background": "light"
     },
     "output_type": "display_data"
    }
   ],
   "source": [
    "# fit a tree to our data and plot error\n",
    "simple_decision_tree(1)"
   ]
  },
  {
   "cell_type": "code",
   "execution_count": 4,
   "metadata": {},
   "outputs": [],
   "source": [
    "# random forest implementation\n",
    "def random_forest(max_depth):\n",
    "    # hyperparameters\n",
    "    # max_depth of 4 or 5 seems to work well for training with validation set\n",
    "\n",
    "    # create a scikit-learn random forest based on validation set\n",
    "    clf = RandomForestClassifier(max_depth=max_depth, n_estimators=10)\n",
    "    clf = clf.fit(x_train, y_train)\n",
    "\n",
    "    # make predictions\n",
    "    predictions_test = np.vstack((y_test, clf.predict(x_test).tolist())).T\n",
    "    predictions_train = np.vstack((y_train, clf.predict(x_train).tolist())).T\n",
    "\n",
    "    num_errors_train = count_errors(predictions_train)\n",
    "    num_errors_test = count_errors(predictions_test)\n",
    "\n",
    "    # calculating train and test error to two decimal places\n",
    "    error_percent_train = round(num_errors_train / data_length_train * 100, 2);\n",
    "    error_percent_test = round(num_errors_test / data_length_test * 100, 2)\n",
    "\n",
    "    errorLabels = ('Train Set Error', 'Test Set Error')\n",
    "    plt.figure(0)\n",
    "    plt.title(\"Error in Train vs Test\")\n",
    "    plt.ylabel(\"Error (%)\")\n",
    "    plt.bar('Train', error_percent_train)\n",
    "    plt.bar('Test', error_percent_test)\n",
    "\n",
    "    print('Validation set error percentage: ', error_percent_train)\n",
    "    print('Test set error percentage: ', error_percent_test)"
   ]
  },
  {
   "cell_type": "code",
   "execution_count": 7,
   "metadata": {},
   "outputs": [
    {
     "name": "stdout",
     "output_type": "stream",
     "text": [
      "Validation set error percentage:  0.12\n",
      "Test set error percentage:  50.0\n"
     ]
    },
    {
     "data": {
      "image/png": "[encoded data removed]",
      "text/plain": [
       "<Figure size 432x288 with 1 Axes>"
      ]
     },
     "metadata": {
      "needs_background": "light"
     },
     "output_type": "display_data"
    }
   ],
   "source": [
    "# fit a tree to our data and plot error\n",
    "random_forest(3)"
   ]
  },
  {
   "cell_type": "code",
   "execution_count": 5,
   "metadata": {},
   "outputs": [],
   "source": [
    "def ada_boost(estimators):\n",
    "    classifier = AdaBoostClassifier(\n",
    "        DecisionTreeClassifier(max_depth=1),\n",
    "        n_estimators=estimators\n",
    "    )\n",
    "    classifier.fit(x_train, y_train)\n",
    "    predictions_test = classifier.predict(x_test)\n",
    "    results_test = confusion_matrix(y_test, predictions_test)\n",
    "    predictions_train = classifier.predict(x_train)\n",
    "    results_train = confusion_matrix(y_train, predictions_train)\n",
    "    num_errors_test = results_test[0][1] + results_test[1][0]\n",
    "    num_errors_train = results_train[0][1] + results_train[1][0]\n",
    "    \n",
    "    # calculating valid and test error to two decimal places\n",
    "    data_length_test = len(predictions_test)\n",
    "    data_length_train = len(predictions_train)\n",
    "    error_percent_train = round(num_errors_train / data_length_train * 100, 2);\n",
    "    error_percent_test = round(num_errors_test / data_length_test * 100, 2)\n",
    "\n",
    "    errorLabels = ('Train Set Error', 'Test Set Error')\n",
    "    plt.figure(0)\n",
    "    plt.title(\"Error in Train vs Test\")\n",
    "    plt.ylabel(\"Error (%)\")\n",
    "    plt.bar('Train', error_percent_train)\n",
    "    plt.bar('Test', error_percent_test)\n",
    "\n",
    "    print('Validation set error percentage: ', error_percent_train)\n",
    "    print('Test set error percentage: ', error_percent_test)"
   ]
  },
  {
   "cell_type": "code",
   "execution_count": 6,
   "metadata": {},
   "outputs": [
    {
     "name": "stdout",
     "output_type": "stream",
     "text": [
      "Validation set error percentage:  0.0\n",
      "Test set error percentage:  26.85\n"
     ]
    },
    {
     "data": {
      "image/png": "[encoded data removed]",
      "text/plain": [
       "<Figure size 432x288 with 1 Axes>"
      ]
     },
     "metadata": {
      "needs_background": "light"
     },
     "output_type": "display_data"
    }
   ],
   "source": [
    "ada_boost(30)"
   ]
  },
  {
   "cell_type": "code",
   "execution_count": 8,
   "metadata": {},
   "outputs": [],
   "source": [
    "def KNN(k):\n",
    "    KNN_Classifier = KNeighborsClassifier(n_neighbors = k)\n",
    "    KNN_Classifier.fit(x_train, y_train)\n",
    "    \n",
    "    predictions_train = np.vstack((y_train, KNN_Classifier.predict(x_train).tolist())).T\n",
    "    length_predictions_train = len(predictions_train)\n",
    "    num_errors_train = count_errors(predictions_train)\n",
    "    train_error = round(num_errors_train / length_predictions_train * 100, 2);\n",
    "    \n",
    "    predictions_test = np.vstack((y_test, KNN_Classifier.predict(x_test).tolist())).T\n",
    "    length_predictions_test = len(predictions_test)\n",
    "    num_errors_test = count_errors(predictions_test)\n",
    "    test_error = round(num_errors_test / length_predictions_test * 100, 2);\n",
    "    \n",
    "    errorLabels = ('Train Set Error', 'Test Set Error')\n",
    "    plt.figure(0)\n",
    "    plt.title(\"Error in Train vs Test\")\n",
    "    plt.ylabel(\"Error (%)\")\n",
    "    plt.bar('Train', train_error)\n",
    "    plt.bar('Test', test_error)\n",
    "\n",
    "    print('Train set error percentage: ', train_error)\n",
    "    print('Test set error percentage: ', test_error)"
   ]
  },
  {
   "cell_type": "code",
   "execution_count": 20,
   "metadata": {},
   "outputs": [
    {
     "name": "stdout",
     "output_type": "stream",
     "text": [
      "Train set error percentage:  6.39\n",
      "Test set error percentage:  29.63\n"
     ]
    },
    {
     "data": {
      "image/png": "[encoded data removed]",
      "text/plain": [
       "<Figure size 432x288 with 1 Axes>"
      ]
     },
     "metadata": {
      "needs_background": "light"
     },
     "output_type": "display_data"
    }
   ],
   "source": [
    "KNN(17)"
   ]
  },
  {
   "cell_type": "code",
   "execution_count": 6,
   "metadata": {},
   "outputs": [],
   "source": [
    "def runSVM(k, c, g):   \n",
    "    x_train_svm=x_train\n",
    "    x_test_svm = x_test\n",
    "\n",
    "    x_train_svm = x_train_svm.to_numpy()\n",
    "    x_test_svm = x_test_svm.to_numpy()\n",
    "\n",
    "    y_train_svm = y_train\n",
    "    y_train_svm = y_train_svm.values\n",
    "    \n",
    "    clf = svm.SVC(kernel=k, C=c, gamma=g)\n",
    "    clf.fit(x_train, y_train)\n",
    "\n",
    "    prediction_train = clf.predict(x_train)\n",
    "    error_train = 100 - 100*metrics.accuracy_score(y_train, prediction_train)\n",
    "    \n",
    "    prediction_test = clf.predict(x_test)\n",
    "    error_test = 100 - 100*metrics.accuracy_score(y_test, prediction_test)\n",
    "\n",
    "    print(\"Train set error percentage: \", error_train)\n",
    "    print(\"Test set error percentage: \", error_test)\n",
    "    \n",
    "    errorLabels = ('Train Set Error', 'Test Set Error')\n",
    "    plt.figure(0)   \n",
    "    plt.title(\"Error in Train and Test\")\n",
    "    plt.ylabel(\"Error (%)\")\n",
    "    plt.bar('Train', error_train)\n",
    "    plt.bar('Test', error_test)\n",
    "    plt.ylim([0, 100])\n",
    "    plt.show()"
   ]
  },
  {
   "cell_type": "code",
   "execution_count": 7,
   "metadata": {},
   "outputs": [
    {
     "name": "stdout",
     "output_type": "stream",
     "text": [
      "Train set error percentage:  0.0\n",
      "Test set error percentage:  26.851851851851848\n"
     ]
    },
    {
     "data": {
      "image/png": "[encoded data removed]",
      "text/plain": [
       "<Figure size 432x288 with 1 Axes>"
      ]
     },
     "metadata": {
      "needs_background": "light"
     },
     "output_type": "display_data"
    }
   ],
   "source": [
    "runSVM('rbf', 100, 0.00001)"
   ]
  },
  {
   "cell_type": "code",
   "execution_count": null,
   "metadata": {},
   "outputs": [],
   "source": []
  }
 ],
 "metadata": {
  "kernelspec": {
   "display_name": "Python 3",
   "language": "python",
   "name": "python3"
  },
  "language_info": {
   "codemirror_mode": {
    "name": "ipython",
    "version": 3
   },
   "file_extension": ".py",
   "mimetype": "text/x-python",
   "name": "python",
   "nbconvert_exporter": "python",
   "pygments_lexer": "ipython3",
   "version": "3.7.4"
  }
 },
 "nbformat": 4,
 "nbformat_minor": 4
}
